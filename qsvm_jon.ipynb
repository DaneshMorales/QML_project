{
 "cells": [
  {
   "cell_type": "code",
   "execution_count": 1,
   "id": "606b902e",
   "metadata": {},
   "outputs": [
    {
     "name": "stdout",
     "output_type": "stream",
     "text": [
      "(2463, 21)\n",
      "             Date Home Team Away Team  Difference doubles  Difference triples  \\\n",
      "0  March 27, 2025       NYY       MIL                 0.0                 0.0   \n",
      "1  March 27, 2025       TOR       BAL                -1.0                 0.0   \n",
      "2  March 27, 2025       TEX       BOS                 1.0                 0.0   \n",
      "3  March 27, 2025       WSH       PHI                -1.0                -1.0   \n",
      "4  March 27, 2025        KC       CLE                -1.0                -1.0   \n",
      "\n",
      "   Difference homeruns  Difference hits  Difference hitbypitch  \\\n",
      "0                  1.0              0.0                    0.0   \n",
      "1                 -5.0            -10.0                   -1.0   \n",
      "2                 -2.0              1.0                    0.0   \n",
      "3                 -1.0             -3.0                    1.0   \n",
      "4                  0.0             -3.0                    0.0   \n",
      "\n",
      "   Difference avg  Difference obp  ...  Difference ops  \\\n",
      "0           0.029           0.035  ...           0.185   \n",
      "1          -0.216          -0.171  ...          -0.767   \n",
      "2           0.030           0.007  ...          -0.115   \n",
      "3          -0.064          -0.083  ...          -0.296   \n",
      "4          -0.078          -0.101  ...          -0.258   \n",
      "\n",
      "   Difference groundintodoubleplay  Difference leftonbase  \\\n",
      "0                              0.0                   -3.0   \n",
      "1                              2.0                   -8.0   \n",
      "2                              1.0                    5.0   \n",
      "3                              1.0                    0.0   \n",
      "4                             -1.0                   -1.0   \n",
      "\n",
      "   Difference strikeouts  Difference baseonballs  Difference whip  \\\n",
      "0                    3.0                     0.0            -0.16   \n",
      "1                    5.0                     0.0             1.11   \n",
      "2                    6.0                     1.0             0.00   \n",
      "3                    6.0                     3.0             0.60   \n",
      "4                   -5.0                     2.0             0.50   \n",
      "\n",
      "   Difference strikepercentage  Difference pitchesperinning  \\\n",
      "0                         0.05                        -0.06   \n",
      "1                         0.04                         7.11   \n",
      "2                        -0.01                         2.00   \n",
      "3                        -0.01                         2.20   \n",
      "4                        -0.04                         1.00   \n",
      "\n",
      "   Difference homerunsper9  Home Team Won  \n",
      "0                    -1.25           True  \n",
      "1                     5.00          False  \n",
      "2                     2.00          False  \n",
      "3                     0.90          False  \n",
      "4                     0.00          False  \n",
      "\n",
      "[5 rows x 21 columns]\n"
     ]
    }
   ],
   "source": [
    "import pandas as pd\n",
    "import numpy as np\n",
    "import time\n",
    "import matplotlib.pyplot as plt\n",
    "from sklearn.preprocessing import LabelEncoder, StandardScaler\n",
    "\n",
    "from sklearn import svm\n",
    "from sklearn.datasets import make_blobs\n",
    "from sklearn.inspection import DecisionBoundaryDisplay\n",
    "from sklearn.model_selection import train_test_split\n",
    "from sklearn.metrics import accuracy_score, classification_report\n",
    "\n",
    "# Load Excel file\n",
    "df = pd.read_csv(\"mlb_game_data_2025.csv\")\n",
    "\n",
    "# Explore the structure\n",
    "print(df.shape)\n",
    "print(df.head(5))"
   ]
  },
  {
   "cell_type": "code",
   "execution_count": null,
   "id": "cb012bd6",
   "metadata": {},
   "outputs": [],
   "source": []
  }
 ],
 "metadata": {
  "kernelspec": {
   "display_name": "base",
   "language": "python",
   "name": "python3"
  },
  "language_info": {
   "codemirror_mode": {
    "name": "ipython",
    "version": 3
   },
   "file_extension": ".py",
   "mimetype": "text/x-python",
   "name": "python",
   "nbconvert_exporter": "python",
   "pygments_lexer": "ipython3",
   "version": "3.11.3"
  }
 },
 "nbformat": 4,
 "nbformat_minor": 5
}
