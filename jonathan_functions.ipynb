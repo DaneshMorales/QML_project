{
 "cells": [
  {
   "cell_type": "code",
   "execution_count": 1,
   "id": "fb634ca6",
   "metadata": {},
   "outputs": [],
   "source": [
    "import mlbstatsapi\n",
    "mlb = mlbstatsapi.Mlb()"
   ]
  },
  {
   "cell_type": "code",
   "execution_count": null,
   "id": "a9340b76",
   "metadata": {},
   "outputs": [],
   "source": [
    "mlb_teams = [\n",
    "    \"Los Angeles Angels\",\n",
    "    \"Houston Astros\",\n",
    "    \"Athletics\",\n",
    "    \"Toronto Blue Jays\",\n",
    "    \"Atlanta Braves\",\n",
    "    \"Milwaukee Brewers\",\n",
    "    \"St. Louis Cardinals\",\n",
    "    \"Chicago Cubs\",\n",
    "    \"Arizona Diamondbacks\",\n",
    "    \"Los Angeles Dodgers\",\n",
    "    \"San Francisco Giants\",\n",
    "    \"Cleveland Guardians\",\n",
    "    \"Seattle Mariners\",\n",
    "    \"Miami Marlins\",\n",
    "    \"New York Mets\",\n",
    "    \"Washington Nationals\",\n",
    "    \"Baltimore Orioles\",\n",
    "    \"San Diego Padres\",\n",
    "    \"Philadelphia Phillies\",\n",
    "    \"Pittsburgh Pirates\",\n",
    "    \"Texas Rangers\",\n",
    "    \"Tampa Bay Rays\",\n",
    "    \"Boston Red Sox\",\n",
    "    \"Cincinnati Reds\",\n",
    "    \"Colorado Rockies\",\n",
    "    \"Kansas City Royals\",\n",
    "    \"Detroit Tigers\",\n",
    "    \"Minnesota Twins\",\n",
    "    \"Chicago White Sox\",\n",
    "    \"New York Yankees\"\n",
    "]\n",
    "\n",
    "team_ids = [mlb.get_team_id(team_name = name)[0] for name in mlb_teams]"
   ]
  },
  {
   "cell_type": "code",
   "execution_count": null,
   "id": "43172c3d",
   "metadata": {},
   "outputs": [],
   "source": [
    "teams = {}\n",
    "\n",
    "for id in team_ids:\n",
    "    teams[mlb.get_team(id).abbreviation] = id"
   ]
  },
  {
   "cell_type": "code",
   "execution_count": 69,
   "id": "6d79a730",
   "metadata": {},
   "outputs": [],
   "source": [
    "import pandas as pd\n",
    "\n",
    "def get_game_pitch_data(game_id, pitching_params):\n",
    "    box_score = mlb.get_game_box_score(game_id)\n",
    "    \n",
    "    home_abb = box_score.teams.home.team.abbreviation\n",
    "    away_abb = box_score.teams.away.team.abbreviation\n",
    "    home_team_pitching = box_score.teams.home.teamstats[\"pitching\"]\n",
    "    away_team_pitching = box_score.teams.away.teamstats[\"pitching\"]\n",
    "\n",
    "    # Build table data\n",
    "    data = []\n",
    "    for param in pitching_params:\n",
    "        data.append({\n",
    "            \"Stat\": param,\n",
    "            f\"{home_abb}\": home_team_pitching.get(param),\n",
    "            f\"{away_abb}\": away_team_pitching.get(param)\n",
    "        })\n",
    "\n",
    "    # Create DataFrame\n",
    "    df = pd.DataFrame(data)\n",
    "    print(df.to_string(index=False))"
   ]
  },
  {
   "cell_type": "code",
   "execution_count": 80,
   "id": "669a7f8b",
   "metadata": {},
   "outputs": [
    {
     "name": "stdout",
     "output_type": "stream",
     "text": [
      "{'flyouts': 7, 'groundouts': 3, 'airouts': 14, 'runs': 12, 'doubles': 1, 'triples': 0, 'homeruns': 6, 'strikeouts': 8, 'baseonballs': 5, 'intentionalwalks': 0, 'hits': 14, 'hitbypitch': 1, 'atbats': 39, 'obp': '.444', 'caughtstealing': 1, 'stolenbases': 0, 'stolenbasepercentage': '.000', 'caughtstealingpercentage': '1.000', 'numberofpitches': 193, 'era': '12.00', 'inningspitched': '9.0', 'saveopportunities': 0, 'earnedruns': 12, 'whip': '2.11', 'battersfaced': 45, 'outs': 27, 'completegames': 0, 'shutouts': 0, 'pitchesthrown': 193, 'balls': 72, 'strikes': 121, 'strikepercentage': '.630', 'hitbatsmen': 1, 'balks': 0, 'wildpitches': 0, 'pickoffs': 0, 'groundoutstoairouts': '0.21', 'rbi': 12, 'pitchesperinning': '21.44', 'runsscoredper9': '12.00', 'homerunsper9': '6.00', 'inheritedrunners': 0, 'inheritedrunnersscored': 0, 'catchersinterference': 0, 'sacbunts': 0, 'sacflies': 0, 'passedball': 0, 'popouts': 4, 'lineouts': 3}\n"
     ]
    }
   ],
   "source": [
    "print(box_score.teams.home.teamstats[\"pitching\"])"
   ]
  },
  {
   "cell_type": "code",
   "execution_count": 76,
   "id": "179a29de",
   "metadata": {},
   "outputs": [
    {
     "name": "stdout",
     "output_type": "stream",
     "text": [
      "https://statsapi.mlb.com/api/v1/game/778556/boxscore\n",
      "      Stat   TOR  BAL\n",
      "       era 12.00 2.00\n",
      "groundouts     3    7\n",
      "   airouts    14   14\n"
     ]
    }
   ],
   "source": [
    "get_game_pitch_data(778556, [\"era\", \"groundouts\", \"airouts\"])"
   ]
  },
  {
   "cell_type": "code",
   "execution_count": 72,
   "id": "81e0ee94",
   "metadata": {},
   "outputs": [],
   "source": [
    "import pandas as pd\n",
    "\n",
    "def get_game_bat_data(game_id, batting_param):\n",
    "    box_score = mlb.get_game_box_score(game_id)\n",
    "    \n",
    "    home_abb = box_score.teams.home.team.abbreviation\n",
    "    away_abb = box_score.teams.away.team.abbreviation\n",
    "    home_team_batting = box_score.teams.home.teamstats[\"batting\"]\n",
    "    away_team_batting = box_score.teams.away.teamstats[\"batting\"]\n",
    "\n",
    "    # Build table data\n",
    "    data = []\n",
    "    for param in batting_param:\n",
    "        data.append({\n",
    "            \"Stat\": param,\n",
    "            f\"{home_abb}\": home_team_batting.get(param),\n",
    "            f\"{away_abb}\": away_team_batting.get(param)\n",
    "        })\n",
    "\n",
    "    # Create DataFrame\n",
    "    df = pd.DataFrame(data)\n",
    "    print(df.to_string(index=False))"
   ]
  },
  {
   "cell_type": "code",
   "execution_count": 79,
   "id": "cb2c4e07",
   "metadata": {},
   "outputs": [
    {
     "name": "stdout",
     "output_type": "stream",
     "text": [
      "{'flyouts': 7, 'groundouts': 7, 'airouts': 14, 'runs': 2, 'doubles': 0, 'triples': 0, 'homeruns': 1, 'strikeouts': 3, 'baseonballs': 5, 'intentionalwalks': 0, 'hits': 4, 'hitbypitch': 0, 'avg': '.143', 'atbats': 28, 'obp': '.273', 'slg': '.250', 'ops': '.523', 'caughtstealing': 0, 'stolenbases': 0, 'stolenbasepercentage': '.---', 'groundintodoubleplay': 2, 'groundintotripleplay': 0, 'plateappearances': 33, 'totalbases': 7, 'rbi': 2, 'leftonbase': 9, 'sacbunts': 0, 'sacflies': 0, 'catchersinterference': 0, 'pickoffs': 0, 'atbatsperhomerun': '28.00', 'popouts': 4, 'lineouts': 3}\n"
     ]
    }
   ],
   "source": [
    "print(box_score.teams.home.teamstats[\"batting\"])"
   ]
  },
  {
   "cell_type": "code",
   "execution_count": 78,
   "id": "d3472a1f",
   "metadata": {},
   "outputs": [
    {
     "name": "stdout",
     "output_type": "stream",
     "text": [
      "https://statsapi.mlb.com/api/v1/game/778556/boxscore\n",
      "          Stat  TOR  BAL\n",
      "          hits  4.0 14.0\n",
      "      homeRuns  NaN  NaN\n",
      "battingAverage  NaN  NaN\n"
     ]
    }
   ],
   "source": [
    "get_game_bat_data(778556, [\"hits\", \"homeRuns\", \"battingAverage\"])"
   ]
  }
 ],
 "metadata": {
  "kernelspec": {
   "display_name": "Python 3",
   "language": "python",
   "name": "python3"
  },
  "language_info": {
   "codemirror_mode": {
    "name": "ipython",
    "version": 3
   },
   "file_extension": ".py",
   "mimetype": "text/x-python",
   "name": "python",
   "nbconvert_exporter": "python",
   "pygments_lexer": "ipython3",
   "version": "3.12.0"
  }
 },
 "nbformat": 4,
 "nbformat_minor": 5
}
