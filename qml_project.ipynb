{
 "cells": [
  {
   "cell_type": "code",
   "execution_count": 1,
   "id": "e026bbc1",
   "metadata": {},
   "outputs": [],
   "source": [
    "import mlbstatsapi\n",
    "mlb = mlbstatsapi.Mlb()"
   ]
  },
  {
   "cell_type": "markdown",
   "id": "56bdb97e",
   "metadata": {},
   "source": [
    "Get the ID of all teams"
   ]
  },
  {
   "cell_type": "code",
   "execution_count": 2,
   "id": "6dca2e6c",
   "metadata": {},
   "outputs": [
    {
     "name": "stdout",
     "output_type": "stream",
     "text": [
      "https://statsapi.mlb.com/api/v1/teams\n",
      "https://statsapi.mlb.com/api/v1/teams\n",
      "https://statsapi.mlb.com/api/v1/teams\n",
      "https://statsapi.mlb.com/api/v1/teams\n",
      "https://statsapi.mlb.com/api/v1/teams\n",
      "https://statsapi.mlb.com/api/v1/teams\n",
      "https://statsapi.mlb.com/api/v1/teams\n",
      "https://statsapi.mlb.com/api/v1/teams\n",
      "https://statsapi.mlb.com/api/v1/teams\n",
      "https://statsapi.mlb.com/api/v1/teams\n",
      "https://statsapi.mlb.com/api/v1/teams\n",
      "https://statsapi.mlb.com/api/v1/teams\n",
      "https://statsapi.mlb.com/api/v1/teams\n",
      "https://statsapi.mlb.com/api/v1/teams\n",
      "https://statsapi.mlb.com/api/v1/teams\n",
      "https://statsapi.mlb.com/api/v1/teams\n",
      "https://statsapi.mlb.com/api/v1/teams\n",
      "https://statsapi.mlb.com/api/v1/teams\n",
      "https://statsapi.mlb.com/api/v1/teams\n",
      "https://statsapi.mlb.com/api/v1/teams\n",
      "https://statsapi.mlb.com/api/v1/teams\n",
      "https://statsapi.mlb.com/api/v1/teams\n",
      "https://statsapi.mlb.com/api/v1/teams\n",
      "https://statsapi.mlb.com/api/v1/teams\n",
      "https://statsapi.mlb.com/api/v1/teams\n",
      "https://statsapi.mlb.com/api/v1/teams\n",
      "https://statsapi.mlb.com/api/v1/teams\n",
      "https://statsapi.mlb.com/api/v1/teams\n",
      "https://statsapi.mlb.com/api/v1/teams\n",
      "https://statsapi.mlb.com/api/v1/teams\n"
     ]
    }
   ],
   "source": [
    "mlb_teams = [\n",
    "    \"Los Angeles Angels\",\n",
    "    \"Houston Astros\",\n",
    "    \"Athletics\",\n",
    "    \"Toronto Blue Jays\",\n",
    "    \"Atlanta Braves\",\n",
    "    \"Milwaukee Brewers\",\n",
    "    \"St. Louis Cardinals\",\n",
    "    \"Chicago Cubs\",\n",
    "    \"Arizona Diamondbacks\",\n",
    "    \"Los Angeles Dodgers\",\n",
    "    \"San Francisco Giants\",\n",
    "    \"Cleveland Guardians\",\n",
    "    \"Seattle Mariners\",\n",
    "    \"Miami Marlins\",\n",
    "    \"New York Mets\",\n",
    "    \"Washington Nationals\",\n",
    "    \"Baltimore Orioles\",\n",
    "    \"San Diego Padres\",\n",
    "    \"Philadelphia Phillies\",\n",
    "    \"Pittsburgh Pirates\",\n",
    "    \"Texas Rangers\",\n",
    "    \"Tampa Bay Rays\",\n",
    "    \"Boston Red Sox\",\n",
    "    \"Cincinnati Reds\",\n",
    "    \"Colorado Rockies\",\n",
    "    \"Kansas City Royals\",\n",
    "    \"Detroit Tigers\",\n",
    "    \"Minnesota Twins\",\n",
    "    \"Chicago White Sox\",\n",
    "    \"New York Yankees\"\n",
    "]\n",
    "\n",
    "team_ids = [mlb.get_team_id(team_name= name)[0] for name in mlb_teams]"
   ]
  },
  {
   "cell_type": "code",
   "execution_count": 3,
   "id": "e9925d5d",
   "metadata": {},
   "outputs": [
    {
     "data": {
      "text/plain": [
       "[108,\n",
       " 117,\n",
       " 133,\n",
       " 141,\n",
       " 144,\n",
       " 158,\n",
       " 138,\n",
       " 112,\n",
       " 109,\n",
       " 119,\n",
       " 137,\n",
       " 114,\n",
       " 136,\n",
       " 146,\n",
       " 121,\n",
       " 120,\n",
       " 110,\n",
       " 135,\n",
       " 143,\n",
       " 134,\n",
       " 140,\n",
       " 139,\n",
       " 111,\n",
       " 113,\n",
       " 115,\n",
       " 118,\n",
       " 116,\n",
       " 142,\n",
       " 145,\n",
       " 147]"
      ]
     },
     "execution_count": 3,
     "metadata": {},
     "output_type": "execute_result"
    }
   ],
   "source": [
    "team_ids"
   ]
  },
  {
   "cell_type": "markdown",
   "id": "d9ee5ad3",
   "metadata": {},
   "source": [
    "Dictionary to find all team IDs by using team abbreviation of team name"
   ]
  },
  {
   "cell_type": "code",
   "execution_count": 4,
   "id": "45974035",
   "metadata": {},
   "outputs": [
    {
     "name": "stdout",
     "output_type": "stream",
     "text": [
      "https://statsapi.mlb.com/api/v1/teams/108\n",
      "https://statsapi.mlb.com/api/v1/teams/117\n",
      "https://statsapi.mlb.com/api/v1/teams/133\n",
      "https://statsapi.mlb.com/api/v1/teams/141\n",
      "https://statsapi.mlb.com/api/v1/teams/144\n",
      "https://statsapi.mlb.com/api/v1/teams/158\n",
      "https://statsapi.mlb.com/api/v1/teams/138\n",
      "https://statsapi.mlb.com/api/v1/teams/112\n",
      "https://statsapi.mlb.com/api/v1/teams/109\n",
      "https://statsapi.mlb.com/api/v1/teams/119\n",
      "https://statsapi.mlb.com/api/v1/teams/137\n",
      "https://statsapi.mlb.com/api/v1/teams/114\n",
      "https://statsapi.mlb.com/api/v1/teams/136\n",
      "https://statsapi.mlb.com/api/v1/teams/146\n",
      "https://statsapi.mlb.com/api/v1/teams/121\n",
      "https://statsapi.mlb.com/api/v1/teams/120\n",
      "https://statsapi.mlb.com/api/v1/teams/110\n",
      "https://statsapi.mlb.com/api/v1/teams/135\n",
      "https://statsapi.mlb.com/api/v1/teams/143\n",
      "https://statsapi.mlb.com/api/v1/teams/134\n",
      "https://statsapi.mlb.com/api/v1/teams/140\n",
      "https://statsapi.mlb.com/api/v1/teams/139\n",
      "https://statsapi.mlb.com/api/v1/teams/111\n",
      "https://statsapi.mlb.com/api/v1/teams/113\n",
      "https://statsapi.mlb.com/api/v1/teams/115\n",
      "https://statsapi.mlb.com/api/v1/teams/118\n",
      "https://statsapi.mlb.com/api/v1/teams/116\n",
      "https://statsapi.mlb.com/api/v1/teams/142\n",
      "https://statsapi.mlb.com/api/v1/teams/145\n",
      "https://statsapi.mlb.com/api/v1/teams/147\n"
     ]
    }
   ],
   "source": [
    "teams = {}\n",
    "\n",
    "for id in team_ids:\n",
    "    teams[mlb.get_team(id).abbreviation] = id"
   ]
  },
  {
   "cell_type": "code",
   "execution_count": 5,
   "id": "cc546874",
   "metadata": {},
   "outputs": [
    {
     "data": {
      "text/plain": [
       "141"
      ]
     },
     "execution_count": 5,
     "metadata": {},
     "output_type": "execute_result"
    }
   ],
   "source": [
    "teams['TOR'] ## Toronto Blue Jays ID"
   ]
  },
  {
   "cell_type": "code",
   "execution_count": 6,
   "id": "1c83bb03",
   "metadata": {},
   "outputs": [],
   "source": [
    "stats_types = [\"season\"]            # basic season totals\n",
    "stat_groups = [\"hitting\", \"pitching\"]  # hitting and pitching stats\n",
    "params = {\"season\": 2025}       # or whatever year you need"
   ]
  },
  {
   "cell_type": "code",
   "execution_count": 7,
   "id": "8665721f",
   "metadata": {},
   "outputs": [
    {
     "name": "stdout",
     "output_type": "stream",
     "text": [
      "https://statsapi.mlb.com/api/v1/teams/141/stats\n"
     ]
    }
   ],
   "source": [
    "toronto_stats = mlb.get_team_stats(teams['TOR'], stats=stats_types, groups=stat_groups, **params)"
   ]
  },
  {
   "cell_type": "code",
   "execution_count": 11,
   "id": "6da6107b",
   "metadata": {},
   "outputs": [
    {
     "data": {
      "text/plain": [
       "{'hitting': {'season': Stat(group=hitting, type=season)},\n",
       " 'pitching': {'season': Stat(group=pitching, type=season)}}"
      ]
     },
     "execution_count": 11,
     "metadata": {},
     "output_type": "execute_result"
    }
   ],
   "source": [
    "toronto_stats"
   ]
  },
  {
   "cell_type": "code",
   "execution_count": 8,
   "id": "a0a595ad",
   "metadata": {},
   "outputs": [
    {
     "data": {
      "text/plain": [
       "SimpleHittingSplit(gamesplayed=162, groundouts=1432, airouts=1595, runs=798, doubles=294, triples=13, homeruns=191, strikeouts=1099, baseonballs=520, intentionalwalks=25, hits=1461, hitbypitch=65, avg=.265, atbats=5507, obp=.333, slg=.427, ops=.760, caughtstealing=25, caughtstealingpercentage=.245, stolenbases=77, stolenbasepercentage=.755, groundintodoubleplay=133, numberofpitches=23366, plateappearances=6180, totalbases=2354, rbi=771, leftonbase=1121, sacbunts=35, sacflies=45, babip=.298, groundoutstoairouts=0.90, catchersinterference=8, atbatsperhomerun=28.83)"
      ]
     },
     "execution_count": 8,
     "metadata": {},
     "output_type": "execute_result"
    }
   ],
   "source": [
    "toronto_stats['hitting']['season'].splits[0].stat"
   ]
  },
  {
   "cell_type": "code",
   "execution_count": 9,
   "id": "0222a190",
   "metadata": {},
   "outputs": [
    {
     "data": {
      "text/plain": [
       "'.265'"
      ]
     },
     "execution_count": 9,
     "metadata": {},
     "output_type": "execute_result"
    }
   ],
   "source": [
    "toronto_stats['hitting']['season'].splits[0].stat.avg ## Batting average of TOR in 2025 season"
   ]
  },
  {
   "cell_type": "code",
   "execution_count": 12,
   "id": "58f77c9a",
   "metadata": {},
   "outputs": [
    {
     "data": {
      "text/plain": [
       "SimplePitchingSplit(gamesplayed=162, gamesstarted=162, groundouts=1235, airouts=1520, runs=721, doubles=253, triples=14, homeruns=209, strikeouts=1430, baseonballs=517, intentionalwalks=25, caughtstealingpercentage=.236, hits=1313, hitbypitch=72, avg=.241, atbats=5446, obp=.313, slg=.408, ops=.721, caughtstealing=34, stolenbases=110, stolenbasepercentage=.764, groundintodoubleplay=97, numberofpitches=23711, era=4.19, inningspitched=1438.0, wins=94, losses=68, saves=42, saveopportunities=65, holds=96, blownsaves=23, earnedruns=669, whip=1.27, outs=4314, gamespitched=162, completegames=2, shutouts=8, strikes=15166, strikepercentage=.640, hitbatsmen=72, balks=9, wildpitches=32, pickoffs=8, totalbases=2221, groundoutstoairouts=0.81, winpercentage=.580, pitchesperinning=16.49, gamesfinished=160, strikeoutwalkratio=2.77, strikeoutsper9inn=8.95, walksper9inn=3.24, hitsper9inn=8.22, runsscoredper9=4.51, homerunsper9=1.31, catchersinterference=2, sacbunts=13, sacflies=39, battersfaced=6089)"
      ]
     },
     "execution_count": 12,
     "metadata": {},
     "output_type": "execute_result"
    }
   ],
   "source": [
    "toronto_stats['pitching']['season'].splits[0].stat"
   ]
  },
  {
   "cell_type": "code",
   "execution_count": 13,
   "id": "2eef6a48",
   "metadata": {},
   "outputs": [
    {
     "data": {
      "text/plain": [
       "'1.27'"
      ]
     },
     "execution_count": 13,
     "metadata": {},
     "output_type": "execute_result"
    }
   ],
   "source": [
    "toronto_stats['pitching']['season'].splits[0].stat.whip ## WHIP of TOR in 2025 season"
   ]
  },
  {
   "cell_type": "markdown",
   "id": "3492522e",
   "metadata": {},
   "source": [
    "Get data of a single player"
   ]
  },
  {
   "cell_type": "code",
   "execution_count": 15,
   "id": "ce0f2d27",
   "metadata": {},
   "outputs": [
    {
     "name": "stdout",
     "output_type": "stream",
     "text": [
      "https://statsapi.mlb.com/api/v1/sports/1/players\n"
     ]
    }
   ],
   "source": [
    "vlad_jr_id = mlb.get_people_id(\"Vladimir Guerrero Jr.\")[0]"
   ]
  },
  {
   "cell_type": "code",
   "execution_count": 18,
   "id": "0232e1cd",
   "metadata": {},
   "outputs": [
    {
     "name": "stdout",
     "output_type": "stream",
     "text": [
      "https://statsapi.mlb.com/api/v1/people/665489/stats\n"
     ]
    },
    {
     "data": {
      "text/plain": [
       "HittingSeason(season=2025, gametype=R, team=Team(id=141, link=/api/v1/teams/141, name=Toronto Blue Jays), player=Person(id=665489, link=/api/v1/people/665489, fullname=Vladimir Guerrero Jr.), sport=Sport(id=1, link=/api/v1/sports/1, abbreviation=MLB), league=League(id=103, link=/api/v1/league/103, name=American League), stat=SimpleHittingSplit(age=26, gamesplayed=156, groundouts=179, airouts=148, runs=96, doubles=34, triples=0, homeruns=23, strikeouts=94, baseonballs=81, intentionalwalks=8, hits=172, hitbypitch=6, avg=.292, atbats=589, obp=.381, slg=.467, ops=.848, caughtstealing=3, caughtstealingpercentage=.333, stolenbases=6, stolenbasepercentage=.667, groundintodoubleplay=17, numberofpitches=2502, plateappearances=680, totalbases=275, rbi=84, leftonbase=227, sacbunts=0, sacflies=4, babip=.313, groundoutstoairouts=1.21, catchersinterference=0, atbatsperhomerun=25.61))"
      ]
     },
     "execution_count": 18,
     "metadata": {},
     "output_type": "execute_result"
    }
   ],
   "source": [
    "mlb.get_player_stats(vlad_jr_id, stats=[\"season\"], groups=[\"hitting\"], season=2025)['hitting']['season'].splits[0]"
   ]
  },
  {
   "cell_type": "code",
   "execution_count": 20,
   "id": "aa946a67",
   "metadata": {},
   "outputs": [
    {
     "name": "stdout",
     "output_type": "stream",
     "text": [
      "https://statsapi.mlb.com/api/v1/people/665489/stats\n"
     ]
    },
    {
     "data": {
      "text/plain": [
       "23"
      ]
     },
     "execution_count": 20,
     "metadata": {},
     "output_type": "execute_result"
    }
   ],
   "source": [
    "mlb.get_player_stats(vlad_jr_id, stats=[\"season\"], groups=[\"hitting\"], season=2025)['hitting']['season'].splits[0].stat.homeruns ## Home runs by Vlad Jr in 2025 season"
   ]
  },
  {
   "cell_type": "markdown",
   "id": "6a564984",
   "metadata": {},
   "source": [
    "Get data from all games in the 2025 season"
   ]
  },
  {
   "cell_type": "code",
   "execution_count": 21,
   "id": "5716d4d8",
   "metadata": {},
   "outputs": [
    {
     "name": "stdout",
     "output_type": "stream",
     "text": [
      "https://statsapi.mlb.com/api/v1/schedule\n"
     ]
    }
   ],
   "source": [
    "schedule = mlb.get_schedule(team_id=teams['TOR'], start_date=\"2025-03-27\", end_date=\"2025-09-30\")"
   ]
  },
  {
   "cell_type": "code",
   "execution_count": 22,
   "id": "2494686e",
   "metadata": {},
   "outputs": [
    {
     "data": {
      "text/plain": [
       "Schedule(totalitems=164, totalgames=164, dates=[ScheduleDates(date=2025-03-27, totalgames=1), ScheduleDates(date=2025-03-28, totalgames=1), ScheduleDates(date=2025-03-29, totalgames=1), ScheduleDates(date=2025-03-30, totalgames=1), ScheduleDates(date=2025-03-31, totalgames=1), ScheduleDates(date=2025-04-01, totalgames=1), ScheduleDates(date=2025-04-02, totalgames=1), ScheduleDates(date=2025-04-04, totalgames=1), ScheduleDates(date=2025-04-05, totalgames=1), ScheduleDates(date=2025-04-06, totalgames=1), ScheduleDates(date=2025-04-07, totalgames=1), ScheduleDates(date=2025-04-08, totalgames=1), ScheduleDates(date=2025-04-09, totalgames=1), ScheduleDates(date=2025-04-10, totalgames=1), ScheduleDates(date=2025-04-11, totalgames=1), ScheduleDates(date=2025-04-12, totalgames=1), ScheduleDates(date=2025-04-13, totalgames=1), ScheduleDates(date=2025-04-14, totalgames=1), ScheduleDates(date=2025-04-15, totalgames=1), ScheduleDates(date=2025-04-16, totalgames=1), ScheduleDates(date=2025-04-18, totalgames=1), ScheduleDates(date=2025-04-19, totalgames=1), ScheduleDates(date=2025-04-20, totalgames=1), ScheduleDates(date=2025-04-21, totalgames=1), ScheduleDates(date=2025-04-22, totalgames=1), ScheduleDates(date=2025-04-23, totalgames=1), ScheduleDates(date=2025-04-25, totalgames=1), ScheduleDates(date=2025-04-26, totalgames=1), ScheduleDates(date=2025-04-27, totalgames=2), ScheduleDates(date=2025-04-29, totalgames=1), ScheduleDates(date=2025-04-30, totalgames=1), ScheduleDates(date=2025-05-01, totalgames=1), ScheduleDates(date=2025-05-02, totalgames=1), ScheduleDates(date=2025-05-03, totalgames=1), ScheduleDates(date=2025-05-04, totalgames=1), ScheduleDates(date=2025-05-06, totalgames=1), ScheduleDates(date=2025-05-07, totalgames=1), ScheduleDates(date=2025-05-08, totalgames=1), ScheduleDates(date=2025-05-09, totalgames=1), ScheduleDates(date=2025-05-10, totalgames=1), ScheduleDates(date=2025-05-11, totalgames=1), ScheduleDates(date=2025-05-13, totalgames=1), ScheduleDates(date=2025-05-14, totalgames=1), ScheduleDates(date=2025-05-15, totalgames=1), ScheduleDates(date=2025-05-16, totalgames=1), ScheduleDates(date=2025-05-17, totalgames=1), ScheduleDates(date=2025-05-18, totalgames=1), ScheduleDates(date=2025-05-20, totalgames=1), ScheduleDates(date=2025-05-21, totalgames=1), ScheduleDates(date=2025-05-22, totalgames=1), ScheduleDates(date=2025-05-23, totalgames=1), ScheduleDates(date=2025-05-24, totalgames=1), ScheduleDates(date=2025-05-25, totalgames=1), ScheduleDates(date=2025-05-26, totalgames=1), ScheduleDates(date=2025-05-27, totalgames=1), ScheduleDates(date=2025-05-28, totalgames=1), ScheduleDates(date=2025-05-29, totalgames=1), ScheduleDates(date=2025-05-30, totalgames=1), ScheduleDates(date=2025-05-31, totalgames=1), ScheduleDates(date=2025-06-01, totalgames=1), ScheduleDates(date=2025-06-03, totalgames=1), ScheduleDates(date=2025-06-04, totalgames=1), ScheduleDates(date=2025-06-05, totalgames=1), ScheduleDates(date=2025-06-06, totalgames=1), ScheduleDates(date=2025-06-07, totalgames=1), ScheduleDates(date=2025-06-08, totalgames=1), ScheduleDates(date=2025-06-09, totalgames=1), ScheduleDates(date=2025-06-10, totalgames=1), ScheduleDates(date=2025-06-11, totalgames=1), ScheduleDates(date=2025-06-13, totalgames=1), ScheduleDates(date=2025-06-14, totalgames=1), ScheduleDates(date=2025-06-15, totalgames=1), ScheduleDates(date=2025-06-17, totalgames=1), ScheduleDates(date=2025-06-18, totalgames=1), ScheduleDates(date=2025-06-19, totalgames=1), ScheduleDates(date=2025-06-20, totalgames=1), ScheduleDates(date=2025-06-21, totalgames=1), ScheduleDates(date=2025-06-22, totalgames=1), ScheduleDates(date=2025-06-24, totalgames=1), ScheduleDates(date=2025-06-25, totalgames=1), ScheduleDates(date=2025-06-26, totalgames=1), ScheduleDates(date=2025-06-27, totalgames=1), ScheduleDates(date=2025-06-28, totalgames=1), ScheduleDates(date=2025-06-29, totalgames=1), ScheduleDates(date=2025-06-30, totalgames=1), ScheduleDates(date=2025-07-01, totalgames=1), ScheduleDates(date=2025-07-02, totalgames=1), ScheduleDates(date=2025-07-03, totalgames=1), ScheduleDates(date=2025-07-04, totalgames=1), ScheduleDates(date=2025-07-05, totalgames=1), ScheduleDates(date=2025-07-06, totalgames=1), ScheduleDates(date=2025-07-07, totalgames=1), ScheduleDates(date=2025-07-08, totalgames=1), ScheduleDates(date=2025-07-09, totalgames=1), ScheduleDates(date=2025-07-11, totalgames=1), ScheduleDates(date=2025-07-12, totalgames=1), ScheduleDates(date=2025-07-13, totalgames=1), ScheduleDates(date=2025-07-18, totalgames=1), ScheduleDates(date=2025-07-19, totalgames=1), ScheduleDates(date=2025-07-20, totalgames=1), ScheduleDates(date=2025-07-21, totalgames=1), ScheduleDates(date=2025-07-22, totalgames=1), ScheduleDates(date=2025-07-23, totalgames=1), ScheduleDates(date=2025-07-24, totalgames=1), ScheduleDates(date=2025-07-25, totalgames=1), ScheduleDates(date=2025-07-26, totalgames=1), ScheduleDates(date=2025-07-27, totalgames=1), ScheduleDates(date=2025-07-28, totalgames=1), ScheduleDates(date=2025-07-29, totalgames=2), ScheduleDates(date=2025-07-30, totalgames=1), ScheduleDates(date=2025-08-01, totalgames=1), ScheduleDates(date=2025-08-02, totalgames=1), ScheduleDates(date=2025-08-03, totalgames=1), ScheduleDates(date=2025-08-04, totalgames=1), ScheduleDates(date=2025-08-05, totalgames=1), ScheduleDates(date=2025-08-06, totalgames=1), ScheduleDates(date=2025-08-08, totalgames=1), ScheduleDates(date=2025-08-09, totalgames=1), ScheduleDates(date=2025-08-10, totalgames=1), ScheduleDates(date=2025-08-12, totalgames=1), ScheduleDates(date=2025-08-13, totalgames=1), ScheduleDates(date=2025-08-14, totalgames=1), ScheduleDates(date=2025-08-15, totalgames=1), ScheduleDates(date=2025-08-16, totalgames=1), ScheduleDates(date=2025-08-17, totalgames=1), ScheduleDates(date=2025-08-18, totalgames=1), ScheduleDates(date=2025-08-19, totalgames=1), ScheduleDates(date=2025-08-20, totalgames=1), ScheduleDates(date=2025-08-22, totalgames=1), ScheduleDates(date=2025-08-23, totalgames=1), ScheduleDates(date=2025-08-24, totalgames=1), ScheduleDates(date=2025-08-25, totalgames=1), ScheduleDates(date=2025-08-26, totalgames=1), ScheduleDates(date=2025-08-27, totalgames=1), ScheduleDates(date=2025-08-29, totalgames=1), ScheduleDates(date=2025-08-30, totalgames=1), ScheduleDates(date=2025-08-31, totalgames=1), ScheduleDates(date=2025-09-01, totalgames=1), ScheduleDates(date=2025-09-02, totalgames=1), ScheduleDates(date=2025-09-03, totalgames=1), ScheduleDates(date=2025-09-05, totalgames=1), ScheduleDates(date=2025-09-06, totalgames=1), ScheduleDates(date=2025-09-07, totalgames=1), ScheduleDates(date=2025-09-09, totalgames=1), ScheduleDates(date=2025-09-10, totalgames=1), ScheduleDates(date=2025-09-11, totalgames=1), ScheduleDates(date=2025-09-12, totalgames=1), ScheduleDates(date=2025-09-13, totalgames=1), ScheduleDates(date=2025-09-14, totalgames=1), ScheduleDates(date=2025-09-15, totalgames=1), ScheduleDates(date=2025-09-16, totalgames=1), ScheduleDates(date=2025-09-17, totalgames=1), ScheduleDates(date=2025-09-18, totalgames=1), ScheduleDates(date=2025-09-19, totalgames=1), ScheduleDates(date=2025-09-20, totalgames=1), ScheduleDates(date=2025-09-21, totalgames=1), ScheduleDates(date=2025-09-23, totalgames=1), ScheduleDates(date=2025-09-24, totalgames=1), ScheduleDates(date=2025-09-25, totalgames=1), ScheduleDates(date=2025-09-26, totalgames=1), ScheduleDates(date=2025-09-27, totalgames=1), ScheduleDates(date=2025-09-28, totalgames=1)])"
      ]
     },
     "execution_count": 22,
     "metadata": {},
     "output_type": "execute_result"
    }
   ],
   "source": [
    "schedule"
   ]
  },
  {
   "cell_type": "code",
   "execution_count": 23,
   "id": "3b7ef041",
   "metadata": {},
   "outputs": [],
   "source": [
    "dates = schedule.dates"
   ]
  },
  {
   "cell_type": "code",
   "execution_count": 32,
   "id": "2eb9a7ae",
   "metadata": {},
   "outputs": [
    {
     "data": {
      "text/plain": [
       "778556"
      ]
     },
     "execution_count": 32,
     "metadata": {},
     "output_type": "execute_result"
    }
   ],
   "source": [
    "game_id = int(dates[0].games[0].gamepk) ## Game ID of first game of the season for Toronto\n",
    "game_id"
   ]
  },
  {
   "cell_type": "code",
   "execution_count": null,
   "id": "b7472f23",
   "metadata": {},
   "outputs": [
    {
     "name": "stdout",
     "output_type": "stream",
     "text": [
      "https://statsapi.mlb.com/api/v1/game/776423/boxscore\n"
     ]
    },
    {
     "data": {
      "text/plain": [
       "{'id669456': PlayersDictPerson(person=Person(id=669456, link=/api/v1/people/669456, fullname=Shane Bieber, boxscorename=Bieber), status=CodeDesc(code='A', description='Active'), stats={'batting': {}, 'pitching': {}, 'fielding': {}}, seasonstats={'batting': {'gamesplayed': 0, 'flyouts': 0, 'groundouts': 0, 'airouts': 0, 'runs': 0, 'doubles': 0, 'triples': 0, 'homeruns': 0, 'strikeouts': 0, 'baseonballs': 0, 'intentionalwalks': 0, 'hits': 0, 'hitbypitch': 0, 'avg': '.000', 'atbats': 0, 'obp': '.000', 'slg': '.000', 'ops': '.000', 'caughtstealing': 0, 'stolenbases': 0, 'stolenbasepercentage': '.---', 'caughtstealingpercentage': '.---', 'groundintodoubleplay': 0, 'groundintotripleplay': 0, 'plateappearances': 0, 'totalbases': 0, 'rbi': 0, 'leftonbase': 0, 'sacbunts': 0, 'sacflies': 0, 'babip': '.---', 'groundoutstoairouts': '-.--', 'catchersinterference': 0, 'pickoffs': 0, 'atbatsperhomerun': '-.--', 'popouts': 0, 'lineouts': 0}, 'pitching': {'gamesplayed': 3, 'gamesstarted': 3, 'flyouts': 5, 'groundouts': 17, 'airouts': 12, 'runs': 8, 'doubles': 1, 'triples': 0, 'homeruns': 2, 'strikeouts': 21, 'baseonballs': 2, 'intentionalwalks': 0, 'hits': 12, 'hitbypitch': 1, 'atbats': 62, 'obp': '.231', 'caughtstealing': 0, 'stolenbases': 0, 'stolenbasepercentage': '.---', 'caughtstealingpercentage': '.---', 'numberofpitches': 277, 'era': '4.15', 'inningspitched': '17.1', 'wins': 2, 'losses': 1, 'saves': 0, 'saveopportunities': 0, 'holds': 0, 'blownsaves': 0, 'earnedruns': 8, 'whip': '0.81', 'battersfaced': 65, 'outs': 52, 'gamespitched': 3, 'completegames': 0, 'shutouts': 0, 'pitchesthrown': 277, 'balls': 101, 'strikes': 176, 'strikepercentage': '.640', 'hitbatsmen': 1, 'balks': 0, 'wildpitches': 0, 'pickoffs': 0, 'groundoutstoairouts': '1.42', 'rbi': 0, 'winpercentage': '.667', 'pitchesperinning': '15.98', 'gamesfinished': 0, 'strikeoutwalkratio': '10.50', 'strikeoutsper9inn': '10.90', 'walksper9inn': '1.04', 'hitsper9inn': '6.23', 'runsscoredper9': '4.15', 'homerunsper9': '1.04', 'inheritedrunners': 0, 'inheritedrunnersscored': 0, 'catchersinterference': 0, 'sacbunts': 0, 'sacflies': 0, 'passedball': 0, 'popouts': 0, 'lineouts': 7}, 'fielding': {'caughtstealing': 0, 'stolenbases': 0, 'stolenbasepercentage': '.---', 'caughtstealingpercentage': '.---', 'assists': 2, 'putouts': 3, 'errors': 0, 'chances': 5, 'fielding': '1.000', 'passedball': 0, 'pickoffs': 0}}, gamestatus=GameStatus(iscurrentbatter=False, iscurrentpitcher=False, isonbench=True, issubstitute=False), position=Position(code='1', name='Pitcher', type='Pitcher', abbreviation='P'), battingorder=None, jerseynumber='57', parentteamid=141, allpositions=None),\n",
       " 'id667297': PlayersDictPerson(person=Person(id=667297, link=/api/v1/people/667297, fullname=Tommy Nance, boxscorename=Nance), status=CodeDesc(code='A', description='Active'), stats={'batting': {}, 'pitching': {}, 'fielding': {}}, seasonstats={'batting': {'gamesplayed': 0, 'flyouts': 0, 'groundouts': 0, 'airouts': 0, 'runs': 0, 'doubles': 0, 'triples': 0, 'homeruns': 0, 'strikeouts': 0, 'baseonballs': 0, 'intentionalwalks': 0, 'hits': 0, 'hitbypitch': 0, 'avg': '.000', 'atbats': 0, 'obp': '.000', 'slg': '.000', 'ops': '.000', 'caughtstealing': 0, 'stolenbases': 0, 'stolenbasepercentage': '.---', 'caughtstealingpercentage': '.---', 'groundintodoubleplay': 0, 'groundintotripleplay': 0, 'plateappearances': 0, 'totalbases': 0, 'rbi': 0, 'leftonbase': 0, 'sacbunts': 0, 'sacflies': 0, 'babip': '.---', 'groundoutstoairouts': '-.--', 'catchersinterference': 0, 'pickoffs': 0, 'atbatsperhomerun': '-.--', 'popouts': 0, 'lineouts': 0}, 'pitching': {'gamesplayed': 21, 'gamesstarted': 0, 'flyouts': 9, 'groundouts': 28, 'airouts': 17, 'runs': 8, 'doubles': 0, 'triples': 0, 'homeruns': 0, 'strikeouts': 25, 'baseonballs': 5, 'intentionalwalks': 0, 'hits': 16, 'hitbypitch': 1, 'atbats': 85, 'obp': '.239', 'caughtstealing': 0, 'stolenbases': 6, 'stolenbasepercentage': '1.000', 'caughtstealingpercentage': '.000', 'numberofpitches': 340, 'era': '1.57', 'inningspitched': '23.0', 'wins': 2, 'losses': 0, 'saves': 0, 'saveopportunities': 0, 'holds': 4, 'blownsaves': 0, 'earnedruns': 4, 'whip': '0.91', 'battersfaced': 92, 'outs': 69, 'gamespitched': 21, 'completegames': 0, 'shutouts': 0, 'pitchesthrown': 340, 'balls': 113, 'strikes': 227, 'strikepercentage': '.670', 'hitbatsmen': 1, 'balks': 0, 'wildpitches': 1, 'pickoffs': 0, 'groundoutstoairouts': '1.65', 'rbi': 0, 'winpercentage': '1.000', 'pitchesperinning': '14.78', 'gamesfinished': 6, 'strikeoutwalkratio': '5.00', 'strikeoutsper9inn': '9.78', 'walksper9inn': '1.96', 'hitsper9inn': '6.26', 'runsscoredper9': '3.13', 'homerunsper9': '0.00', 'inheritedrunners': 12, 'inheritedrunnersscored': 4, 'catchersinterference': 0, 'sacbunts': 0, 'sacflies': 1, 'passedball': 0, 'popouts': 3, 'lineouts': 5}, 'fielding': {'caughtstealing': 0, 'stolenbases': 0, 'stolenbasepercentage': '.---', 'caughtstealingpercentage': '.---', 'assists': 4, 'putouts': 2, 'errors': 1, 'chances': 7, 'fielding': '.857', 'passedball': 0, 'pickoffs': 0}}, gamestatus=GameStatus(iscurrentbatter=False, iscurrentpitcher=False, isonbench=True, issubstitute=False), position=Position(code='1', name='Pitcher', type='Pitcher', abbreviation='P'), battingorder=None, jerseynumber='45', parentteamid=141, allpositions=None),\n",
       " 'id686973': PlayersDictPerson(person=Person(id=686973, link=/api/v1/people/686973, fullname=Louis Varland, boxscorename=Varland), status=CodeDesc(code='A', description='Active'), stats={'batting': {}, 'pitching': {}, 'fielding': {}}, seasonstats={'batting': {'gamesplayed': 0, 'flyouts': 0, 'groundouts': 0, 'airouts': 0, 'runs': 0, 'doubles': 0, 'triples': 0, 'homeruns': 0, 'strikeouts': 0, 'baseonballs': 0, 'intentionalwalks': 0, 'hits': 0, 'hitbypitch': 0, 'avg': '.000', 'atbats': 0, 'obp': '.000', 'slg': '.000', 'ops': '.000', 'caughtstealing': 0, 'stolenbases': 0, 'stolenbasepercentage': '.---', 'caughtstealingpercentage': '.---', 'groundintodoubleplay': 0, 'groundintotripleplay': 0, 'plateappearances': 0, 'totalbases': 0, 'rbi': 0, 'leftonbase': 0, 'sacbunts': 0, 'sacflies': 0, 'babip': '.---', 'groundoutstoairouts': '-.--', 'catchersinterference': 0, 'pickoffs': 0, 'atbatsperhomerun': '-.--', 'popouts': 0, 'lineouts': 0}, 'pitching': {'gamesplayed': 67, 'gamesstarted': 0, 'flyouts': 19, 'groundouts': 75, 'airouts': 42, 'runs': 26, 'doubles': 17, 'triples': 1, 'homeruns': 5, 'strikeouts': 64, 'baseonballs': 19, 'intentionalwalks': 1, 'hits': 62, 'hitbypitch': 2, 'atbats': 237, 'obp': '.318', 'caughtstealing': 3, 'stolenbases': 6, 'stolenbasepercentage': '.667', 'caughtstealingpercentage': '.333', 'numberofpitches': 944, 'era': '3.25', 'inningspitched': '63.2', 'wins': 4, 'losses': 3, 'saves': 0, 'saveopportunities': 2, 'holds': 21, 'blownsaves': 2, 'earnedruns': 23, 'whip': '1.27', 'battersfaced': 264, 'outs': 191, 'gamespitched': 67, 'completegames': 0, 'shutouts': 0, 'pitchesthrown': 944, 'balls': 305, 'strikes': 639, 'strikepercentage': '.680', 'hitbatsmen': 2, 'balks': 0, 'wildpitches': 0, 'pickoffs': 1, 'groundoutstoairouts': '1.79', 'rbi': 0, 'winpercentage': '.571', 'pitchesperinning': '14.83', 'gamesfinished': 8, 'strikeoutwalkratio': '3.37', 'strikeoutsper9inn': '9.05', 'walksper9inn': '2.69', 'hitsper9inn': '8.76', 'runsscoredper9': '3.68', 'homerunsper9': '0.71', 'inheritedrunners': 26, 'inheritedrunnersscored': 11, 'catchersinterference': 0, 'sacbunts': 3, 'sacflies': 3, 'passedball': 0, 'popouts': 9, 'lineouts': 14}, 'fielding': {'caughtstealing': 0, 'stolenbases': 0, 'stolenbasepercentage': '.---', 'caughtstealingpercentage': '.---', 'assists': 12, 'putouts': 5, 'errors': 1, 'chances': 18, 'fielding': '.944', 'passedball': 0, 'pickoffs': 0}}, gamestatus=GameStatus(iscurrentbatter=False, iscurrentpitcher=False, isonbench=True, issubstitute=False), position=Position(code='1', name='Pitcher', type='Pitcher', abbreviation='P'), battingorder=None, jerseynumber='77', parentteamid=141, allpositions=None),\n",
       " 'id663893': PlayersDictPerson(person=Person(id=663893, link=/api/v1/people/663893, fullname=Brendon Little, boxscorename=Little, B), status=CodeDesc(code='A', description='Active'), stats={'batting': {}, 'pitching': {}, 'fielding': {}}, seasonstats={'batting': {'gamesplayed': 0, 'flyouts': 0, 'groundouts': 0, 'airouts': 0, 'runs': 0, 'doubles': 0, 'triples': 0, 'homeruns': 0, 'strikeouts': 0, 'baseonballs': 0, 'intentionalwalks': 0, 'hits': 0, 'hitbypitch': 0, 'avg': '.000', 'atbats': 0, 'obp': '.000', 'slg': '.000', 'ops': '.000', 'caughtstealing': 0, 'stolenbases': 0, 'stolenbasepercentage': '.---', 'caughtstealingpercentage': '.---', 'groundintodoubleplay': 0, 'groundintotripleplay': 0, 'plateappearances': 0, 'totalbases': 0, 'rbi': 0, 'leftonbase': 0, 'sacbunts': 0, 'sacflies': 0, 'babip': '.---', 'groundoutstoairouts': '-.--', 'catchersinterference': 0, 'pickoffs': 0, 'atbatsperhomerun': '-.--', 'popouts': 0, 'lineouts': 0}, 'pitching': {'gamesplayed': 68, 'gamesstarted': 0, 'flyouts': 14, 'groundouts': 63, 'airouts': 30, 'runs': 26, 'doubles': 9, 'triples': 1, 'homeruns': 2, 'strikeouts': 85, 'baseonballs': 39, 'intentionalwalks': 4, 'hits': 43, 'hitbypitch': 2, 'atbats': 218, 'obp': '.322', 'caughtstealing': 4, 'stolenbases': 2, 'stolenbasepercentage': '.333', 'caughtstealingpercentage': '.667', 'numberofpitches': 1113, 'era': '3.13', 'inningspitched': '60.1', 'wins': 4, 'losses': 2, 'saves': 1, 'saveopportunities': 4, 'holds': 27, 'blownsaves': 3, 'earnedruns': 21, 'whip': '1.36', 'battersfaced': 262, 'outs': 181, 'gamespitched': 68, 'completegames': 0, 'shutouts': 0, 'pitchesthrown': 1113, 'balls': 475, 'strikes': 638, 'strikepercentage': '.570', 'hitbatsmen': 2, 'balks': 1, 'wildpitches': 5, 'pickoffs': 0, 'groundoutstoairouts': '2.10', 'rbi': 0, 'winpercentage': '.667', 'pitchesperinning': '18.45', 'gamesfinished': 4, 'strikeoutwalkratio': '2.18', 'strikeoutsper9inn': '12.68', 'walksper9inn': '5.82', 'hitsper9inn': '6.41', 'runsscoredper9': '3.88', 'homerunsper9': '0.30', 'inheritedrunners': 34, 'inheritedrunnersscored': 9, 'catchersinterference': 0, 'sacbunts': 1, 'sacflies': 2, 'passedball': 0, 'popouts': 5, 'lineouts': 11}, 'fielding': {'caughtstealing': 0, 'stolenbases': 0, 'stolenbasepercentage': '.---', 'caughtstealingpercentage': '.---', 'assists': 6, 'putouts': 6, 'errors': 4, 'chances': 16, 'fielding': '.750', 'passedball': 0, 'pickoffs': 0}}, gamestatus=GameStatus(iscurrentbatter=False, iscurrentpitcher=False, isonbench=True, issubstitute=False), position=Position(code='1', name='Pitcher', type='Pitcher', abbreviation='P'), battingorder=None, jerseynumber='54', parentteamid=141, allpositions=None),\n",
       " 'id676391': PlayersDictPerson(person=Person(id=676391, link=/api/v1/people/676391, fullname=Ernie Clement, boxscorename=Clement), status=CodeDesc(code='A', description='Active'), stats={'batting': {'summary': '1-3 | 2B, BB, R', 'gamesplayed': 1, 'flyouts': 0, 'groundouts': 1, 'airouts': 1, 'runs': 1, 'doubles': 1, 'triples': 0, 'homeruns': 0, 'strikeouts': 0, 'baseonballs': 1, 'intentionalwalks': 0, 'hits': 1, 'hitbypitch': 0, 'atbats': 3, 'caughtstealing': 0, 'stolenbases': 0, 'stolenbasepercentage': '.---', 'groundintodoubleplay': 0, 'groundintotripleplay': 0, 'plateappearances': 4, 'totalbases': 2, 'rbi': 0, 'leftonbase': 2, 'sacbunts': 0, 'sacflies': 0, 'catchersinterference': 0, 'pickoffs': 0, 'atbatsperhomerun': '-.--', 'popouts': 0, 'lineouts': 1}, 'pitching': {}, 'fielding': {'gamesstarted': 1, 'caughtstealing': 0, 'stolenbases': 0, 'stolenbasepercentage': '.---', 'caughtstealingpercentage': '.---', 'assists': 1, 'putouts': 2, 'errors': 0, 'chances': 3, 'fielding': '.000', 'passedball': 0, 'pickoffs': 0}}, seasonstats={'batting': {'gamesplayed': 138, 'flyouts': 103, 'groundouts': 121, 'airouts': 183, 'runs': 70, 'doubles': 28, 'triples': 2, 'homeruns': 9, 'strikeouts': 56, 'baseonballs': 23, 'intentionalwalks': 1, 'hits': 132, 'hitbypitch': 4, 'avg': '.275', 'atbats': 480, 'obp': '.311', 'slg': '.398', 'ops': '.709', 'caughtstealing': 4, 'stolenbases': 5, 'stolenbasepercentage': '.556', 'caughtstealingpercentage': '.444', 'groundintodoubleplay': 13, 'groundintotripleplay': 0, 'plateappearances': 519, 'totalbases': 191, 'rbi': 42, 'leftonbase': 215, 'sacbunts': 7, 'sacflies': 5, 'babip': '.293', 'groundoutstoairouts': '0.66', 'catchersinterference': 0, 'pickoffs': 0, 'atbatsperhomerun': '53.33', 'popouts': 33, 'lineouts': 47}, 'pitching': {'gamesplayed': 0, 'gamesstarted': 0, 'flyouts': 0, 'groundouts': 0, 'airouts': 0, 'runs': 0, 'doubles': 0, 'triples': 0, 'homeruns': 0, 'strikeouts': 0, 'baseonballs': 0, 'intentionalwalks': 0, 'hits': 0, 'hitbypitch': 0, 'atbats': 0, 'obp': '.000', 'caughtstealing': 0, 'stolenbases': 0, 'stolenbasepercentage': '.---', 'caughtstealingpercentage': '.---', 'numberofpitches': 0, 'era': '-.--', 'inningspitched': '0.0', 'wins': 0, 'losses': 0, 'saves': 0, 'saveopportunities': 0, 'holds': 0, 'blownsaves': 0, 'earnedruns': 0, 'whip': '-', 'battersfaced': 0, 'outs': 0, 'gamespitched': 0, 'completegames': 0, 'shutouts': 0, 'balls': 0, 'strikes': 0, 'strikepercentage': '-.--', 'hitbatsmen': 0, 'balks': 0, 'wildpitches': 0, 'pickoffs': 0, 'groundoutstoairouts': '-.--', 'rbi': 0, 'winpercentage': '.---', 'pitchesperinning': '-.--', 'gamesfinished': 0, 'strikeoutwalkratio': '-.--', 'strikeoutsper9inn': '-.--', 'walksper9inn': '-.--', 'hitsper9inn': '-.--', 'runsscoredper9': '-.--', 'homerunsper9': '-.--', 'inheritedrunners': 0, 'inheritedrunnersscored': 0, 'catchersinterference': 0, 'sacbunts': 0, 'sacflies': 0, 'passedball': 0, 'popouts': 0, 'lineouts': 0}, 'fielding': {'gamesstarted': 1, 'caughtstealing': 0, 'stolenbases': 0, 'stolenbasepercentage': '.---', 'caughtstealingpercentage': '.---', 'assists': 241, 'putouts': 190, 'errors': 10, 'chances': 441, 'fielding': '.977', 'passedball': 0, 'pickoffs': 0}}, gamestatus=GameStatus(iscurrentbatter=False, iscurrentpitcher=False, isonbench=False, issubstitute=False), position=Position(code='6', name='Shortstop', type='Infielder', abbreviation='SS'), battingorder='500', jerseynumber='22', parentteamid=141, allpositions=[Position(code='6', name='Shortstop', type='Infielder', abbreviation='SS')]),\n",
       " 'id605135': PlayersDictPerson(person=Person(id=605135, link=/api/v1/people/605135, fullname=Chris Bassitt, boxscorename=Bassitt), status=CodeDesc(code='A', description='Active'), stats={'batting': {}, 'pitching': {}, 'fielding': {}}, seasonstats={'batting': {'gamesplayed': 0, 'flyouts': 0, 'groundouts': 0, 'airouts': 0, 'runs': 0, 'doubles': 0, 'triples': 0, 'homeruns': 0, 'strikeouts': 0, 'baseonballs': 0, 'intentionalwalks': 0, 'hits': 0, 'hitbypitch': 0, 'avg': '.000', 'atbats': 0, 'obp': '.000', 'slg': '.000', 'ops': '.000', 'caughtstealing': 0, 'stolenbases': 0, 'stolenbasepercentage': '.---', 'caughtstealingpercentage': '.---', 'groundintodoubleplay': 0, 'groundintotripleplay': 0, 'plateappearances': 0, 'totalbases': 0, 'rbi': 0, 'leftonbase': 0, 'sacbunts': 0, 'sacflies': 0, 'babip': '.---', 'groundoutstoairouts': '-.--', 'catchersinterference': 0, 'pickoffs': 0, 'atbatsperhomerun': '-.--', 'popouts': 0, 'lineouts': 0}, 'pitching': {'gamesplayed': 30, 'gamesstarted': 29, 'flyouts': 67, 'groundouts': 173, 'airouts': 141, 'runs': 76, 'doubles': 28, 'triples': 3, 'homeruns': 22, 'strikeouts': 157, 'baseonballs': 49, 'intentionalwalks': 0, 'hits': 164, 'hitbypitch': 12, 'atbats': 631, 'obp': '.324', 'caughtstealing': 2, 'stolenbases': 13, 'stolenbasepercentage': '.867', 'caughtstealingpercentage': '.133', 'numberofpitches': 2665, 'era': '3.97', 'inningspitched': '161.0', 'wins': 11, 'losses': 8, 'saves': 0, 'saveopportunities': 0, 'holds': 0, 'blownsaves': 0, 'earnedruns': 71, 'whip': '1.32', 'battersfaced': 696, 'outs': 483, 'gamespitched': 30, 'completegames': 1, 'shutouts': 0, 'pitchesthrown': 2665, 'balls': 958, 'strikes': 1707, 'strikepercentage': '.640', 'hitbatsmen': 12, 'balks': 3, 'wildpitches': 4, 'pickoffs': 0, 'groundoutstoairouts': '1.23', 'rbi': 0, 'winpercentage': '.579', 'pitchesperinning': '16.55', 'gamesfinished': 0, 'strikeoutwalkratio': '3.20', 'strikeoutsper9inn': '8.78', 'walksper9inn': '2.74', 'hitsper9inn': '9.17', 'runsscoredper9': '4.25', 'homerunsper9': '1.23', 'inheritedrunners': 0, 'inheritedrunnersscored': 0, 'catchersinterference': 0, 'sacbunts': 1, 'sacflies': 3, 'passedball': 0, 'popouts': 40, 'lineouts': 34}, 'fielding': {'caughtstealing': 0, 'stolenbases': 0, 'stolenbasepercentage': '.---', 'caughtstealingpercentage': '.---', 'assists': 11, 'putouts': 8, 'errors': 2, 'chances': 21, 'fielding': '.905', 'passedball': 0, 'pickoffs': 0}}, gamestatus=GameStatus(iscurrentbatter=False, iscurrentpitcher=False, isonbench=True, issubstitute=False), position=Position(code='1', name='Pitcher', type='Pitcher', abbreviation='P'), battingorder=None, jerseynumber='40', parentteamid=141, allpositions=None),\n",
       " 'id662139': PlayersDictPerson(person=Person(id=662139, link=/api/v1/people/662139, fullname=Daulton Varsho, boxscorename=Varsho), status=CodeDesc(code='A', description='Active'), stats={'batting': {'note': 'b-', 'summary': '0-1', 'gamesplayed': 1, 'flyouts': 1, 'groundouts': 0, 'airouts': 1, 'runs': 0, 'doubles': 0, 'triples': 0, 'homeruns': 0, 'strikeouts': 0, 'baseonballs': 0, 'intentionalwalks': 0, 'hits': 0, 'hitbypitch': 0, 'atbats': 1, 'caughtstealing': 0, 'stolenbases': 0, 'stolenbasepercentage': '.---', 'groundintodoubleplay': 0, 'groundintotripleplay': 0, 'plateappearances': 1, 'totalbases': 0, 'rbi': 0, 'leftonbase': 0, 'sacbunts': 0, 'sacflies': 0, 'catchersinterference': 0, 'pickoffs': 0, 'atbatsperhomerun': '-.--', 'popouts': 0, 'lineouts': 0}, 'pitching': {}, 'fielding': {'caughtstealing': 0, 'stolenbases': 0, 'stolenbasepercentage': '.---', 'caughtstealingpercentage': '.---', 'assists': 0, 'putouts': 0, 'errors': 0, 'chances': 0, 'fielding': '.000', 'passedball': 0, 'pickoffs': 0}}, seasonstats={'batting': {'gamesplayed': 54, 'flyouts': 27, 'groundouts': 31, 'airouts': 56, 'runs': 32, 'doubles': 10, 'triples': 1, 'homeruns': 18, 'strikeouts': 59, 'baseonballs': 16, 'intentionalwalks': 1, 'hits': 44, 'hitbypitch': 1, 'avg': '.238', 'atbats': 185, 'obp': '.295', 'slg': '.595', 'ops': '.890', 'caughtstealing': 0, 'stolenbases': 2, 'stolenbasepercentage': '1.000', 'caughtstealingpercentage': '.000', 'groundintodoubleplay': 0, 'groundintotripleplay': 0, 'plateappearances': 207, 'totalbases': 110, 'rbi': 47, 'leftonbase': 96, 'sacbunts': 0, 'sacflies': 5, 'babip': '.230', 'groundoutstoairouts': '0.55', 'catchersinterference': 0, 'pickoffs': 0, 'atbatsperhomerun': '10.28', 'popouts': 19, 'lineouts': 10}, 'pitching': {'gamesplayed': 0, 'gamesstarted': 0, 'flyouts': 0, 'groundouts': 0, 'airouts': 0, 'runs': 0, 'doubles': 0, 'triples': 0, 'homeruns': 0, 'strikeouts': 0, 'baseonballs': 0, 'intentionalwalks': 0, 'hits': 0, 'hitbypitch': 0, 'atbats': 0, 'obp': '.000', 'caughtstealing': 0, 'stolenbases': 0, 'stolenbasepercentage': '.---', 'caughtstealingpercentage': '.---', 'numberofpitches': 0, 'era': '-.--', 'inningspitched': '0.0', 'wins': 0, 'losses': 0, 'saves': 0, 'saveopportunities': 0, 'holds': 0, 'blownsaves': 0, 'earnedruns': 0, 'whip': '-', 'battersfaced': 0, 'outs': 0, 'gamespitched': 0, 'completegames': 0, 'shutouts': 0, 'balls': 0, 'strikes': 0, 'strikepercentage': '-.--', 'hitbatsmen': 0, 'balks': 0, 'wildpitches': 0, 'pickoffs': 0, 'groundoutstoairouts': '-.--', 'rbi': 0, 'winpercentage': '.---', 'pitchesperinning': '-.--', 'gamesfinished': 0, 'strikeoutwalkratio': '-.--', 'strikeoutsper9inn': '-.--', 'walksper9inn': '-.--', 'hitsper9inn': '-.--', 'runsscoredper9': '-.--', 'homerunsper9': '-.--', 'inheritedrunners': 0, 'inheritedrunnersscored': 0, 'catchersinterference': 0, 'sacbunts': 0, 'sacflies': 0, 'passedball': 0, 'popouts': 0, 'lineouts': 0}, 'fielding': {'caughtstealing': 0, 'stolenbases': 0, 'stolenbasepercentage': '.---', 'caughtstealingpercentage': '.---', 'assists': 1, 'putouts': 114, 'errors': 1, 'chances': 116, 'fielding': '.991', 'passedball': 0, 'pickoffs': 0}}, gamestatus=GameStatus(iscurrentbatter=False, iscurrentpitcher=False, isonbench=False, issubstitute=True), position=Position(code='11', name='Pinch Hitter', type='Hitter', abbreviation='PH'), battingorder='701', jerseynumber='5', parentteamid=141, allpositions=[Position(code='11', name='Pinch Hitter', type='Hitter', abbreviation='PH')]),\n",
       " 'id592332': PlayersDictPerson(person=Person(id=592332, link=/api/v1/people/592332, fullname=Kevin Gausman, boxscorename=Gausman), status=CodeDesc(code='A', description='Active'), stats={'batting': {}, 'pitching': {}, 'fielding': {}}, seasonstats={'batting': {'gamesplayed': 0, 'flyouts': 0, 'groundouts': 0, 'airouts': 0, 'runs': 0, 'doubles': 0, 'triples': 0, 'homeruns': 0, 'strikeouts': 0, 'baseonballs': 0, 'intentionalwalks': 0, 'hits': 0, 'hitbypitch': 0, 'avg': '.000', 'atbats': 0, 'obp': '.000', 'slg': '.000', 'ops': '.000', 'caughtstealing': 0, 'stolenbases': 0, 'stolenbasepercentage': '.---', 'caughtstealingpercentage': '.---', 'groundintodoubleplay': 0, 'groundintotripleplay': 0, 'plateappearances': 0, 'totalbases': 0, 'rbi': 0, 'leftonbase': 0, 'sacbunts': 0, 'sacflies': 0, 'babip': '.---', 'groundoutstoairouts': '-.--', 'catchersinterference': 0, 'pickoffs': 0, 'atbatsperhomerun': '-.--', 'popouts': 0, 'lineouts': 0}, 'pitching': {'gamesplayed': 28, 'gamesstarted': 28, 'flyouts': 117, 'groundouts': 129, 'airouts': 204, 'runs': 70, 'doubles': 26, 'triples': 2, 'homeruns': 21, 'strikeouts': 162, 'baseonballs': 44, 'intentionalwalks': 2, 'hits': 130, 'hitbypitch': 3, 'atbats': 621, 'obp': '.264', 'caughtstealing': 3, 'stolenbases': 14, 'stolenbasepercentage': '.824', 'caughtstealingpercentage': '.176', 'numberofpitches': 2658, 'era': '3.63', 'inningspitched': '168.2', 'wins': 9, 'losses': 10, 'saves': 0, 'saveopportunities': 0, 'holds': 0, 'blownsaves': 0, 'earnedruns': 68, 'whip': '1.03', 'battersfaced': 674, 'outs': 506, 'gamespitched': 28, 'completegames': 0, 'shutouts': 0, 'pitchesthrown': 2658, 'balls': 881, 'strikes': 1777, 'strikepercentage': '.670', 'hitbatsmen': 3, 'balks': 1, 'wildpitches': 1, 'pickoffs': 1, 'groundoutstoairouts': '0.63', 'rbi': 0, 'winpercentage': '.474', 'pitchesperinning': '15.76', 'gamesfinished': 0, 'strikeoutwalkratio': '3.68', 'strikeoutsper9inn': '8.64', 'walksper9inn': '2.35', 'hitsper9inn': '6.94', 'runsscoredper9': '3.74', 'homerunsper9': '1.12', 'inheritedrunners': 0, 'inheritedrunnersscored': 0, 'catchersinterference': 2, 'sacbunts': 1, 'sacflies': 3, 'passedball': 0, 'popouts': 33, 'lineouts': 54}, 'fielding': {'caughtstealing': 0, 'stolenbases': 0, 'stolenbasepercentage': '.---', 'caughtstealingpercentage': '.---', 'assists': 11, 'putouts': 15, 'errors': 0, 'chances': 26, 'fielding': '1.000', 'passedball': 0, 'pickoffs': 0}}, gamestatus=GameStatus(iscurrentbatter=False, iscurrentpitcher=False, isonbench=True, issubstitute=False), position=Position(code='1', name='Pitcher', type='Pitcher', abbreviation='P'), battingorder=None, jerseynumber='34', parentteamid=141, allpositions=None),\n",
       " 'id665926': PlayersDictPerson(person=Person(id=665926, link=/api/v1/people/665926, fullname=Andrés Giménez, boxscorename=Giménez), status=CodeDesc(code='A', description='Active'), stats={'batting': {}, 'pitching': {}, 'fielding': {}}, seasonstats={'batting': {'gamesplayed': 84, 'flyouts': 43, 'groundouts': 85, 'airouts': 84, 'runs': 35, 'doubles': 8, 'triples': 0, 'homeruns': 7, 'strikeouts': 55, 'baseonballs': 20, 'intentionalwalks': 0, 'hits': 60, 'hitbypitch': 11, 'avg': '.213', 'atbats': 282, 'obp': '.290', 'slg': '.316', 'ops': '.606', 'caughtstealing': 1, 'stolenbases': 12, 'stolenbasepercentage': '.923', 'caughtstealingpercentage': '.077', 'groundintodoubleplay': 6, 'groundintotripleplay': 0, 'plateappearances': 315, 'totalbases': 89, 'rbi': 27, 'leftonbase': 124, 'sacbunts': 1, 'sacflies': 1, 'babip': '.240', 'groundoutstoairouts': '1.01', 'catchersinterference': 0, 'pickoffs': 0, 'atbatsperhomerun': '40.29', 'popouts': 12, 'lineouts': 29}, 'pitching': {'gamesplayed': 0, 'gamesstarted': 0, 'flyouts': 0, 'groundouts': 0, 'airouts': 0, 'runs': 0, 'doubles': 0, 'triples': 0, 'homeruns': 0, 'strikeouts': 0, 'baseonballs': 0, 'intentionalwalks': 0, 'hits': 0, 'hitbypitch': 0, 'atbats': 0, 'obp': '.000', 'caughtstealing': 0, 'stolenbases': 0, 'stolenbasepercentage': '.---', 'caughtstealingpercentage': '.---', 'numberofpitches': 0, 'era': '-.--', 'inningspitched': '0.0', 'wins': 0, 'losses': 0, 'saves': 0, 'saveopportunities': 0, 'holds': 0, 'blownsaves': 0, 'earnedruns': 0, 'whip': '-', 'battersfaced': 0, 'outs': 0, 'gamespitched': 0, 'completegames': 0, 'shutouts': 0, 'balls': 0, 'strikes': 0, 'strikepercentage': '-.--', 'hitbatsmen': 0, 'balks': 0, 'wildpitches': 0, 'pickoffs': 0, 'groundoutstoairouts': '-.--', 'rbi': 0, 'winpercentage': '.---', 'pitchesperinning': '-.--', 'gamesfinished': 0, 'strikeoutwalkratio': '-.--', 'strikeoutsper9inn': '-.--', 'walksper9inn': '-.--', 'hitsper9inn': '-.--', 'runsscoredper9': '-.--', 'homerunsper9': '-.--', 'inheritedrunners': 0, 'inheritedrunnersscored': 0, 'catchersinterference': 0, 'sacbunts': 0, 'sacflies': 0, 'passedball': 0, 'popouts': 0, 'lineouts': 0}, 'fielding': {'caughtstealing': 0, 'stolenbases': 0, 'stolenbasepercentage': '.---', 'caughtstealingpercentage': '.---', 'assists': 187, 'putouts': 137, 'errors': 2, 'chances': 326, 'fielding': '.994', 'passedball': 0, 'pickoffs': 0}}, gamestatus=GameStatus(iscurrentbatter=False, iscurrentpitcher=False, isonbench=True, issubstitute=False), position=Position(code='4', name='Second Base', type='Infielder', abbreviation='2B'), battingorder=None, jerseynumber='0', parentteamid=141, allpositions=None),\n",
       " 'id641778': PlayersDictPerson(person=Person(id=641778, link=/api/v1/people/641778, fullname=Eric Lauer, boxscorename=Lauer), status=CodeDesc(code='A', description='Active'), stats={'batting': {}, 'pitching': {}, 'fielding': {}}, seasonstats={'batting': {'gamesplayed': 0, 'flyouts': 0, 'groundouts': 0, 'airouts': 0, 'runs': 0, 'doubles': 0, 'triples': 0, 'homeruns': 0, 'strikeouts': 0, 'baseonballs': 0, 'intentionalwalks': 0, 'hits': 0, 'hitbypitch': 0, 'avg': '.000', 'atbats': 0, 'obp': '.000', 'slg': '.000', 'ops': '.000', 'caughtstealing': 0, 'stolenbases': 0, 'stolenbasepercentage': '.---', 'caughtstealingpercentage': '.---', 'groundintodoubleplay': 0, 'groundintotripleplay': 0, 'plateappearances': 0, 'totalbases': 0, 'rbi': 0, 'leftonbase': 0, 'sacbunts': 0, 'sacflies': 0, 'babip': '.---', 'groundoutstoairouts': '-.--', 'catchersinterference': 0, 'pickoffs': 0, 'atbatsperhomerun': '-.--', 'popouts': 0, 'lineouts': 0}, 'pitching': {'gamesplayed': 22, 'gamesstarted': 15, 'flyouts': 75, 'groundouts': 58, 'airouts': 128, 'runs': 37, 'doubles': 21, 'triples': 2, 'homeruns': 14, 'strikeouts': 93, 'baseonballs': 25, 'intentionalwalks': 1, 'hits': 85, 'hitbypitch': 2, 'atbats': 362, 'obp': '.287', 'caughtstealing': 2, 'stolenbases': 9, 'stolenbasepercentage': '.818', 'caughtstealingpercentage': '.182', 'numberofpitches': 1547, 'era': '3.32', 'inningspitched': '95.0', 'wins': 8, 'losses': 2, 'saves': 0, 'saveopportunities': 0, 'holds': 0, 'blownsaves': 0, 'earnedruns': 35, 'whip': '1.16', 'battersfaced': 391, 'outs': 285, 'gamespitched': 22, 'completegames': 0, 'shutouts': 0, 'pitchesthrown': 1547, 'balls': 520, 'strikes': 1027, 'strikepercentage': '.660', 'hitbatsmen': 2, 'balks': 0, 'wildpitches': 0, 'pickoffs': 1, 'groundoutstoairouts': '0.45', 'rbi': 0, 'winpercentage': '.800', 'pitchesperinning': '16.28', 'gamesfinished': 1, 'strikeoutwalkratio': '3.72', 'strikeoutsper9inn': '8.81', 'walksper9inn': '2.37', 'hitsper9inn': '8.05', 'runsscoredper9': '3.51', 'homerunsper9': '1.33', 'inheritedrunners': 1, 'inheritedrunnersscored': 0, 'catchersinterference': 0, 'sacbunts': 1, 'sacflies': 1, 'passedball': 0, 'popouts': 21, 'lineouts': 32}, 'fielding': {'caughtstealing': 0, 'stolenbases': 0, 'stolenbasepercentage': '.---', 'caughtstealingpercentage': '.---', 'assists': 2, 'putouts': 1, 'errors': 2, 'chances': 5, 'fielding': '.600', 'passedball': 0, 'pickoffs': 0}}, gamestatus=GameStatus(iscurrentbatter=False, iscurrentpitcher=False, isonbench=True, issubstitute=False), position=Position(code='1', name='Pitcher', type='Pitcher', abbreviation='P'), battingorder=None, jerseynumber='56', parentteamid=141, allpositions=None),\n",
       " 'id656546': PlayersDictPerson(person=Person(id=656546, link=/api/v1/people/656546, fullname=Jeff Hoffman, boxscorename=Hoffman, J), status=CodeDesc(code='A', description='Active'), stats={'batting': {}, 'pitching': {'summary': '1.0 IP, 0 ER, 0 K, BB', 'gamesplayed': 1, 'gamesstarted': 0, 'flyouts': 0, 'groundouts': 3, 'airouts': 0, 'runs': 0, 'doubles': 0, 'triples': 0, 'homeruns': 0, 'strikeouts': 0, 'baseonballs': 1, 'intentionalwalks': 0, 'hits': 0, 'hitbypitch': 0, 'atbats': 3, 'caughtstealing': 0, 'stolenbases': 0, 'stolenbasepercentage': '.---', 'numberofpitches': 21, 'inningspitched': '1.0', 'wins': 0, 'losses': 0, 'saves': 0, 'saveopportunities': 0, 'holds': 0, 'blownsaves': 0, 'earnedruns': 0, 'battersfaced': 4, 'outs': 3, 'gamespitched': 1, 'completegames': 0, 'shutouts': 0, 'pitchesthrown': 21, 'balls': 11, 'strikes': 10, 'strikepercentage': '.480', 'hitbatsmen': 0, 'balks': 0, 'wildpitches': 0, 'pickoffs': 0, 'rbi': 0, 'gamesfinished': 1, 'runsscoredper9': '0.00', 'homerunsper9': '0.00', 'inheritedrunners': 0, 'inheritedrunnersscored': 0, 'catchersinterference': 0, 'sacbunts': 0, 'sacflies': 0, 'passedball': 0, 'popouts': 0, 'lineouts': 0}, 'fielding': {'caughtstealing': 0, 'stolenbases': 0, 'stolenbasepercentage': '.---', 'caughtstealingpercentage': '.---', 'assists': 0, 'putouts': 0, 'errors': 0, 'chances': 0, 'fielding': '.000', 'passedball': 0, 'pickoffs': 0}}, seasonstats={'batting': {'gamesplayed': 2, 'flyouts': 0, 'groundouts': 0, 'airouts': 0, 'runs': 0, 'doubles': 0, 'triples': 0, 'homeruns': 0, 'strikeouts': 0, 'baseonballs': 0, 'intentionalwalks': 0, 'hits': 0, 'hitbypitch': 0, 'avg': '.000', 'atbats': 0, 'obp': '.000', 'slg': '.000', 'ops': '.000', 'caughtstealing': 0, 'stolenbases': 0, 'stolenbasepercentage': '.---', 'caughtstealingpercentage': '.---', 'groundintodoubleplay': 0, 'groundintotripleplay': 0, 'plateappearances': 0, 'totalbases': 0, 'rbi': 0, 'leftonbase': 0, 'sacbunts': 0, 'sacflies': 0, 'babip': '.---', 'groundoutstoairouts': '-.--', 'catchersinterference': 0, 'pickoffs': 0, 'atbatsperhomerun': '-.--', 'popouts': 0, 'lineouts': 0}, 'pitching': {'gamesplayed': 63, 'gamesstarted': 0, 'flyouts': 25, 'groundouts': 43, 'airouts': 58, 'runs': 33, 'doubles': 13, 'triples': 0, 'homeruns': 14, 'strikeouts': 78, 'baseonballs': 21, 'intentionalwalks': 1, 'hits': 50, 'hitbypitch': 3, 'atbats': 226, 'obp': '.295', 'caughtstealing': 2, 'stolenbases': 4, 'stolenbasepercentage': '.667', 'caughtstealingpercentage': '.333', 'numberofpitches': 986, 'era': '4.77', 'inningspitched': '60.1', 'wins': 8, 'losses': 6, 'saves': 30, 'saveopportunities': 37, 'holds': 0, 'blownsaves': 7, 'earnedruns': 32, 'whip': '1.18', 'battersfaced': 253, 'outs': 181, 'gamespitched': 63, 'completegames': 0, 'shutouts': 0, 'pitchesthrown': 986, 'balls': 325, 'strikes': 661, 'strikepercentage': '.670', 'hitbatsmen': 3, 'balks': 0, 'wildpitches': 2, 'pickoffs': 1, 'groundoutstoairouts': '0.74', 'rbi': 0, 'winpercentage': '.571', 'pitchesperinning': '16.34', 'gamesfinished': 52, 'strikeoutwalkratio': '3.71', 'strikeoutsper9inn': '11.64', 'walksper9inn': '3.13', 'hitsper9inn': '7.46', 'runsscoredper9': '4.92', 'homerunsper9': '2.09', 'inheritedrunners': 10, 'inheritedrunnersscored': 8, 'catchersinterference': 0, 'sacbunts': 2, 'sacflies': 1, 'passedball': 0, 'popouts': 16, 'lineouts': 17}, 'fielding': {'caughtstealing': 0, 'stolenbases': 0, 'stolenbasepercentage': '.---', 'caughtstealingpercentage': '.---', 'assists': 2, 'putouts': 2, 'errors': 1, 'chances': 5, 'fielding': '.800', 'passedball': 0, 'pickoffs': 0}}, gamestatus=GameStatus(iscurrentbatter=False, iscurrentpitcher=False, isonbench=False, issubstitute=False), position=Position(code='1', name='Pitcher', type='Pitcher', abbreviation='P'), battingorder=None, jerseynumber='23', parentteamid=141, allpositions=[Position(code='1', name='Pitcher', type='Pitcher', abbreviation='P')]),\n",
       " 'id643396': PlayersDictPerson(person=Person(id=643396, link=/api/v1/people/643396, fullname=Isiah Kiner-Falefa, boxscorename=Kiner-Falefa), status=CodeDesc(code='A', description='Active'), stats={'batting': {'summary': '1-3 | K, RBI', 'gamesplayed': 1, 'flyouts': 0, 'groundouts': 0, 'airouts': 1, 'runs': 0, 'doubles': 0, 'triples': 0, 'homeruns': 0, 'strikeouts': 1, 'baseonballs': 0, 'intentionalwalks': 0, 'hits': 1, 'hitbypitch': 0, 'atbats': 3, 'caughtstealing': 0, 'stolenbases': 0, 'stolenbasepercentage': '.---', 'groundintodoubleplay': 0, 'groundintotripleplay': 0, 'plateappearances': 3, 'totalbases': 1, 'rbi': 1, 'leftonbase': 0, 'sacbunts': 0, 'sacflies': 0, 'catchersinterference': 0, 'pickoffs': 0, 'atbatsperhomerun': '-.--', 'popouts': 1, 'lineouts': 0}, 'pitching': {}, 'fielding': {'gamesstarted': 1, 'caughtstealing': 0, 'stolenbases': 0, 'stolenbasepercentage': '.---', 'caughtstealingpercentage': '.---', 'assists': 1, 'putouts': 1, 'errors': 0, 'chances': 2, 'fielding': '.000', 'passedball': 0, 'pickoffs': 0}}, seasonstats={'batting': {'gamesplayed': 122, 'flyouts': 34, 'groundouts': 152, 'airouts': 85, 'runs': 42, 'doubles': 21, 'triples': 2, 'homeruns': 1, 'strikeouts': 72, 'baseonballs': 17, 'intentionalwalks': 0, 'hits': 108, 'hitbypitch': 5, 'avg': '.263', 'atbats': 411, 'obp': '.300', 'slg': '.331', 'ops': '.631', 'caughtstealing': 4, 'stolenbases': 15, 'stolenbasepercentage': '.789', 'caughtstealingpercentage': '.211', 'groundintodoubleplay': 9, 'groundintotripleplay': 0, 'plateappearances': 439, 'totalbases': 136, 'rbi': 37, 'leftonbase': 177, 'sacbunts': 5, 'sacflies': 1, 'babip': '.316', 'groundoutstoairouts': '1.79', 'catchersinterference': 0, 'pickoffs': 0, 'atbatsperhomerun': '411.00', 'popouts': 22, 'lineouts': 29}, 'pitching': {'gamesplayed': 0, 'gamesstarted': 0, 'flyouts': 0, 'groundouts': 0, 'airouts': 0, 'runs': 0, 'doubles': 0, 'triples': 0, 'homeruns': 0, 'strikeouts': 0, 'baseonballs': 0, 'intentionalwalks': 0, 'hits': 0, 'hitbypitch': 0, 'atbats': 0, 'obp': '.000', 'caughtstealing': 0, 'stolenbases': 0, 'stolenbasepercentage': '.---', 'caughtstealingpercentage': '.---', 'numberofpitches': 0, 'era': '-.--', 'inningspitched': '0.0', 'wins': 0, 'losses': 0, 'saves': 0, 'saveopportunities': 0, 'holds': 0, 'blownsaves': 0, 'earnedruns': 0, 'whip': '-', 'battersfaced': 0, 'outs': 0, 'gamespitched': 0, 'completegames': 0, 'shutouts': 0, 'balls': 0, 'strikes': 0, 'strikepercentage': '-.--', 'hitbatsmen': 0, 'balks': 0, 'wildpitches': 0, 'pickoffs': 0, 'groundoutstoairouts': '-.--', 'rbi': 0, 'winpercentage': '.---', 'pitchesperinning': '-.--', 'gamesfinished': 0, 'strikeoutwalkratio': '-.--', 'strikeoutsper9inn': '-.--', 'walksper9inn': '-.--', 'hitsper9inn': '-.--', 'runsscoredper9': '-.--', 'homerunsper9': '-.--', 'inheritedrunners': 0, 'inheritedrunnersscored': 0, 'catchersinterference': 0, 'sacbunts': 0, 'sacflies': 0, 'passedball': 0, 'popouts': 0, 'lineouts': 0}, 'fielding': {'gamesstarted': 1, 'caughtstealing': 0, 'stolenbases': 0, 'stolenbasepercentage': '.---', 'caughtstealingpercentage': '.---', 'assists': 259, 'putouts': 139, 'errors': 9, 'chances': 407, 'fielding': '.978', 'passedball': 0, 'pickoffs': 0}}, gamestatus=GameStatus(iscurrentbatter=False, iscurrentpitcher=False, isonbench=False, issubstitute=False), position=Position(code='4', name='Second Base', type='Infielder', abbreviation='2B'), battingorder='700', jerseynumber='7', parentteamid=141, allpositions=[Position(code='5', name='Third Base', type='Infielder', abbreviation='3B'), Position(code='4', name='Second Base', type='Infielder', abbreviation='2B')]),\n",
       " 'id676914': PlayersDictPerson(person=Person(id=676914, link=/api/v1/people/676914, fullname=Davis Schneider, boxscorename=Schneider), status=CodeDesc(code='A', description='Active'), stats={'batting': {'summary': '0-3 | K', 'gamesplayed': 1, 'flyouts': 1, 'groundouts': 1, 'airouts': 1, 'runs': 0, 'doubles': 0, 'triples': 0, 'homeruns': 0, 'strikeouts': 1, 'baseonballs': 0, 'intentionalwalks': 0, 'hits': 0, 'hitbypitch': 0, 'atbats': 3, 'caughtstealing': 0, 'stolenbases': 0, 'stolenbasepercentage': '.---', 'groundintodoubleplay': 0, 'groundintotripleplay': 0, 'plateappearances': 3, 'totalbases': 0, 'rbi': 0, 'leftonbase': 1, 'sacbunts': 0, 'sacflies': 0, 'catchersinterference': 0, 'pickoffs': 0, 'atbatsperhomerun': '-.--', 'popouts': 0, 'lineouts': 0}, 'pitching': {}, 'fielding': {'gamesstarted': 1, 'caughtstealing': 0, 'stolenbases': 0, 'stolenbasepercentage': '.---', 'caughtstealingpercentage': '.---', 'assists': 2, 'putouts': 1, 'errors': 0, 'chances': 3, 'fielding': '.000', 'passedball': 0, 'pickoffs': 0}}, seasonstats={'batting': {'gamesplayed': 66, 'flyouts': 28, 'groundouts': 18, 'airouts': 47, 'runs': 27, 'doubles': 5, 'triples': 0, 'homeruns': 10, 'strikeouts': 52, 'baseonballs': 25, 'intentionalwalks': 0, 'hits': 37, 'hitbypitch': 2, 'avg': '.240', 'atbats': 154, 'obp': '.354', 'slg': '.468', 'ops': '.822', 'caughtstealing': 1, 'stolenbases': 2, 'stolenbasepercentage': '.667', 'caughtstealingpercentage': '.333', 'groundintodoubleplay': 3, 'groundintotripleplay': 0, 'plateappearances': 181, 'totalbases': 72, 'rbi': 29, 'leftonbase': 61, 'sacbunts': 0, 'sacflies': 0, 'babip': '.293', 'groundoutstoairouts': '0.38', 'catchersinterference': 0, 'pickoffs': 0, 'atbatsperhomerun': '15.40', 'popouts': 16, 'lineouts': 3}, 'pitching': {'gamesplayed': 0, 'gamesstarted': 0, 'flyouts': 0, 'groundouts': 0, 'airouts': 0, 'runs': 0, 'doubles': 0, 'triples': 0, 'homeruns': 0, 'strikeouts': 0, 'baseonballs': 0, 'intentionalwalks': 0, 'hits': 0, 'hitbypitch': 0, 'atbats': 0, 'obp': '.000', 'caughtstealing': 0, 'stolenbases': 0, 'stolenbasepercentage': '.---', 'caughtstealingpercentage': '.---', 'numberofpitches': 0, 'era': '-.--', 'inningspitched': '0.0', 'wins': 0, 'losses': 0, 'saves': 0, 'saveopportunities': 0, 'holds': 0, 'blownsaves': 0, 'earnedruns': 0, 'whip': '-', 'battersfaced': 0, 'outs': 0, 'gamespitched': 0, 'completegames': 0, 'shutouts': 0, 'balls': 0, 'strikes': 0, 'strikepercentage': '-.--', 'hitbatsmen': 0, 'balks': 0, 'wildpitches': 0, 'pickoffs': 0, 'groundoutstoairouts': '-.--', 'rbi': 0, 'winpercentage': '.---', 'pitchesperinning': '-.--', 'gamesfinished': 0, 'strikeoutwalkratio': '-.--', 'strikeoutsper9inn': '-.--', 'walksper9inn': '-.--', 'hitsper9inn': '-.--', 'runsscoredper9': '-.--', 'homerunsper9': '-.--', 'inheritedrunners': 0, 'inheritedrunnersscored': 0, 'catchersinterference': 0, 'sacbunts': 0, 'sacflies': 0, 'passedball': 0, 'popouts': 0, 'lineouts': 0}, 'fielding': {'gamesstarted': 1, 'caughtstealing': 0, 'stolenbases': 0, 'stolenbasepercentage': '.---', 'caughtstealingpercentage': '.---', 'assists': 20, 'putouts': 80, 'errors': 2, 'chances': 102, 'fielding': '.980', 'passedball': 0, 'pickoffs': 0}}, gamestatus=GameStatus(iscurrentbatter=False, iscurrentpitcher=False, isonbench=False, issubstitute=False), position=Position(code='4', name='Second Base', type='Infielder', abbreviation='2B'), battingorder='200', jerseynumber='36', parentteamid=141, allpositions=[Position(code='4', name='Second Base', type='Infielder', abbreviation='2B')]),\n",
       " 'id621244': PlayersDictPerson(person=Person(id=621244, link=/api/v1/people/621244, fullname=José Berríos, boxscorename=Berríos), status=CodeDesc(code='A', description='Active'), stats={'batting': {}, 'pitching': {}, 'fielding': {}}, seasonstats={'batting': {'gamesplayed': 0, 'flyouts': 0, 'groundouts': 0, 'airouts': 0, 'runs': 0, 'doubles': 0, 'triples': 0, 'homeruns': 0, 'strikeouts': 0, 'baseonballs': 0, 'intentionalwalks': 0, 'hits': 0, 'hitbypitch': 0, 'avg': '.000', 'atbats': 0, 'obp': '.000', 'slg': '.000', 'ops': '.000', 'caughtstealing': 0, 'stolenbases': 0, 'stolenbasepercentage': '.---', 'caughtstealingpercentage': '.---', 'groundintodoubleplay': 0, 'groundintotripleplay': 0, 'plateappearances': 0, 'totalbases': 0, 'rbi': 0, 'leftonbase': 0, 'sacbunts': 0, 'sacflies': 0, 'babip': '.---', 'groundoutstoairouts': '-.--', 'catchersinterference': 0, 'pickoffs': 0, 'atbatsperhomerun': '-.--', 'popouts': 0, 'lineouts': 0}, 'pitching': {'gamesplayed': 28, 'gamesstarted': 28, 'flyouts': 96, 'groundouts': 143, 'airouts': 168, 'runs': 78, 'doubles': 29, 'triples': 2, 'homeruns': 23, 'strikeouts': 131, 'baseonballs': 51, 'intentionalwalks': 2, 'hits': 149, 'hitbypitch': 7, 'atbats': 588, 'obp': '.319', 'caughtstealing': 3, 'stolenbases': 11, 'stolenbasepercentage': '.786', 'caughtstealingpercentage': '.214', 'numberofpitches': 2386, 'era': '4.02', 'inningspitched': '154.2', 'wins': 9, 'losses': 5, 'saves': 0, 'saveopportunities': 0, 'holds': 0, 'blownsaves': 0, 'earnedruns': 69, 'whip': '1.29', 'battersfaced': 649, 'outs': 464, 'gamespitched': 28, 'completegames': 0, 'shutouts': 0, 'pitchesthrown': 2386, 'balls': 868, 'strikes': 1518, 'strikepercentage': '.640', 'hitbatsmen': 7, 'balks': 1, 'wildpitches': 1, 'pickoffs': 4, 'groundoutstoairouts': '0.85', 'rbi': 0, 'winpercentage': '.643', 'pitchesperinning': '15.43', 'gamesfinished': 0, 'strikeoutwalkratio': '2.57', 'strikeoutsper9inn': '7.62', 'walksper9inn': '2.97', 'hitsper9inn': '8.67', 'runsscoredper9': '4.54', 'homerunsper9': '1.34', 'inheritedrunners': 0, 'inheritedrunnersscored': 0, 'catchersinterference': 0, 'sacbunts': 1, 'sacflies': 2, 'passedball': 0, 'popouts': 40, 'lineouts': 32}, 'fielding': {'caughtstealing': 0, 'stolenbases': 0, 'stolenbasepercentage': '.---', 'caughtstealingpercentage': '.---', 'assists': 9, 'putouts': 11, 'errors': 0, 'chances': 20, 'fielding': '1.000', 'passedball': 0, 'pickoffs': 0}}, gamestatus=GameStatus(iscurrentbatter=False, iscurrentpitcher=False, isonbench=True, issubstitute=False), position=Position(code='1', name='Pitcher', type='Pitcher', abbreviation='P'), battingorder=None, jerseynumber='17', parentteamid=141, allpositions=None),\n",
       " 'id622554': PlayersDictPerson(person=Person(id=622554, link=/api/v1/people/622554, fullname=Seranthony Domínguez, boxscorename=Domínguez), status=CodeDesc(code='A', description='Active'), stats={'batting': {}, 'pitching': {}, 'fielding': {}}, seasonstats={'batting': {'gamesplayed': 2, 'flyouts': 0, 'groundouts': 0, 'airouts': 0, 'runs': 0, 'doubles': 0, 'triples': 0, 'homeruns': 0, 'strikeouts': 0, 'baseonballs': 0, 'intentionalwalks': 0, 'hits': 0, 'hitbypitch': 0, 'avg': '.000', 'atbats': 0, 'obp': '.000', 'slg': '.000', 'ops': '.000', 'caughtstealing': 0, 'stolenbases': 0, 'stolenbasepercentage': '.---', 'caughtstealingpercentage': '.---', 'groundintodoubleplay': 0, 'groundintotripleplay': 0, 'plateappearances': 0, 'totalbases': 0, 'rbi': 0, 'leftonbase': 0, 'sacbunts': 0, 'sacflies': 0, 'babip': '.---', 'groundoutstoairouts': '-.--', 'catchersinterference': 0, 'pickoffs': 0, 'atbatsperhomerun': '-.--', 'popouts': 0, 'lineouts': 0}, 'pitching': {'gamesplayed': 59, 'gamesstarted': 0, 'flyouts': 20, 'groundouts': 38, 'airouts': 49, 'runs': 29, 'doubles': 7, 'triples': 0, 'homeruns': 5, 'strikeouts': 71, 'baseonballs': 33, 'intentionalwalks': 2, 'hits': 41, 'hitbypitch': 2, 'atbats': 198, 'obp': '.325', 'caughtstealing': 4, 'stolenbases': 17, 'stolenbasepercentage': '.810', 'caughtstealingpercentage': '.190', 'numberofpitches': 983, 'era': '3.42', 'inningspitched': '55.1', 'wins': 3, 'losses': 4, 'saves': 2, 'saveopportunities': 5, 'holds': 19, 'blownsaves': 3, 'earnedruns': 21, 'whip': '1.34', 'battersfaced': 234, 'outs': 166, 'gamespitched': 59, 'completegames': 0, 'shutouts': 0, 'pitchesthrown': 983, 'balls': 395, 'strikes': 588, 'strikepercentage': '.600', 'hitbatsmen': 2, 'balks': 0, 'wildpitches': 12, 'pickoffs': 1, 'groundoutstoairouts': '0.78', 'rbi': 0, 'winpercentage': '.429', 'pitchesperinning': '17.77', 'gamesfinished': 13, 'strikeoutwalkratio': '2.15', 'strikeoutsper9inn': '11.55', 'walksper9inn': '5.37', 'hitsper9inn': '6.67', 'runsscoredper9': '4.72', 'homerunsper9': '0.81', 'inheritedrunners': 29, 'inheritedrunnersscored': 3, 'catchersinterference': 0, 'sacbunts': 0, 'sacflies': 1, 'passedball': 0, 'popouts': 15, 'lineouts': 14}, 'fielding': {'caughtstealing': 0, 'stolenbases': 0, 'stolenbasepercentage': '.---', 'caughtstealingpercentage': '.---', 'assists': 3, 'putouts': 4, 'errors': 1, 'chances': 8, 'fielding': '.875', 'passedball': 0, 'pickoffs': 0}}, gamestatus=GameStatus(iscurrentbatter=False, iscurrentpitcher=False, isonbench=True, issubstitute=False), position=Position(code='1', name='Pitcher', type='Pitcher', abbreviation='P'), battingorder=None, jerseynumber='48', parentteamid=141, allpositions=None),\n",
       " 'id621366': PlayersDictPerson(person=Person(id=621366, link=/api/v1/people/621366, fullname=Ryan Borucki, boxscorename=Borucki), status=CodeDesc(code='A', description='Active'), stats={'batting': {}, 'pitching': {'summary': '1.2 IP, 0 ER, 2 K, 0 BB', 'gamesplayed': 1, 'gamesstarted': 0, 'flyouts': 0, 'groundouts': 2, 'airouts': 1, 'runs': 0, 'doubles': 0, 'triples': 0, 'homeruns': 0, 'strikeouts': 2, 'baseonballs': 0, 'intentionalwalks': 0, 'hits': 0, 'hitbypitch': 0, 'atbats': 5, 'caughtstealing': 0, 'stolenbases': 0, 'stolenbasepercentage': '.---', 'numberofpitches': 15, 'inningspitched': '1.2', 'wins': 0, 'losses': 0, 'saves': 0, 'saveopportunities': 0, 'holds': 0, 'blownsaves': 0, 'earnedruns': 0, 'battersfaced': 5, 'outs': 5, 'gamespitched': 1, 'completegames': 0, 'shutouts': 0, 'pitchesthrown': 15, 'balls': 3, 'strikes': 12, 'strikepercentage': '.800', 'hitbatsmen': 0, 'balks': 0, 'wildpitches': 0, 'pickoffs': 0, 'rbi': 0, 'gamesfinished': 0, 'runsscoredper9': '0.00', 'homerunsper9': '0.00', 'inheritedrunners': 1, 'inheritedrunnersscored': 0, 'catchersinterference': 0, 'sacbunts': 0, 'sacflies': 0, 'passedball': 0, 'popouts': 0, 'lineouts': 1}, 'fielding': {'caughtstealing': 0, 'stolenbases': 0, 'stolenbasepercentage': '.---', 'caughtstealingpercentage': '.---', 'assists': 0, 'putouts': 0, 'errors': 0, 'chances': 0, 'fielding': '.000', 'passedball': 0, 'pickoffs': 0}}, seasonstats={'batting': {'gamesplayed': 0, 'flyouts': 0, 'groundouts': 0, 'airouts': 0, 'runs': 0, 'doubles': 0, 'triples': 0, 'homeruns': 0, 'strikeouts': 0, 'baseonballs': 0, 'intentionalwalks': 0, 'hits': 0, 'hitbypitch': 0, 'avg': '.000', 'atbats': 0, 'obp': '.000', 'slg': '.000', 'ops': '.000', 'caughtstealing': 0, 'stolenbases': 0, 'stolenbasepercentage': '.---', 'caughtstealingpercentage': '.---', 'groundintodoubleplay': 0, 'groundintotripleplay': 0, 'plateappearances': 0, 'totalbases': 0, 'rbi': 0, 'leftonbase': 0, 'sacbunts': 0, 'sacflies': 0, 'babip': '.---', 'groundoutstoairouts': '-.--', 'catchersinterference': 0, 'pickoffs': 0, 'atbatsperhomerun': '-.--', 'popouts': 0, 'lineouts': 0}, 'pitching': {'gamesplayed': 37, 'gamesstarted': 0, 'flyouts': 8, 'groundouts': 38, 'airouts': 25, 'runs': 20, 'doubles': 8, 'triples': 0, 'homeruns': 4, 'strikeouts': 30, 'baseonballs': 13, 'intentionalwalks': 1, 'hits': 27, 'hitbypitch': 1, 'atbats': 117, 'obp': '.308', 'caughtstealing': 2, 'stolenbases': 1, 'stolenbasepercentage': '.333', 'caughtstealingpercentage': '.667', 'numberofpitches': 552, 'era': '4.96', 'inningspitched': '32.2', 'wins': 1, 'losses': 3, 'saves': 0, 'saveopportunities': 3, 'holds': 7, 'blownsaves': 3, 'earnedruns': 18, 'whip': '1.22', 'battersfaced': 134, 'outs': 98, 'gamespitched': 37, 'completegames': 0, 'shutouts': 0, 'pitchesthrown': 552, 'balls': 202, 'strikes': 350, 'strikepercentage': '.630', 'hitbatsmen': 1, 'balks': 1, 'wildpitches': 2, 'pickoffs': 0, 'groundoutstoairouts': '1.52', 'rbi': 0, 'winpercentage': '.250', 'pitchesperinning': '16.90', 'gamesfinished': 8, 'strikeoutwalkratio': '2.31', 'strikeoutsper9inn': '8.27', 'walksper9inn': '3.58', 'hitsper9inn': '7.44', 'runsscoredper9': '5.51', 'homerunsper9': '1.10', 'inheritedrunners': 20, 'inheritedrunnersscored': 9, 'catchersinterference': 0, 'sacbunts': 1, 'sacflies': 2, 'passedball': 0, 'popouts': 7, 'lineouts': 10}, 'fielding': {'caughtstealing': 0, 'stolenbases': 0, 'stolenbasepercentage': '.---', 'caughtstealingpercentage': '.---', 'assists': 4, 'putouts': 1, 'errors': 0, 'chances': 5, 'fielding': '1.000', 'passedball': 0, 'pickoffs': 0}}, gamestatus=GameStatus(iscurrentbatter=False, iscurrentpitcher=False, isonbench=False, issubstitute=False), position=Position(code='1', name='Pitcher', type='Pitcher', abbreviation='P'), battingorder=None, jerseynumber='35', parentteamid=141, allpositions=[Position(code='1', name='Pitcher', type='Pitcher', abbreviation='P')]),\n",
       " 'id664770': PlayersDictPerson(person=Person(id=664770, link=/api/v1/people/664770, fullname=Nathan Lukes, boxscorename=Lukes), status=CodeDesc(code='A', description='Active'), stats={'batting': {'summary': '2-3 | K, RBI, CS', 'gamesplayed': 1, 'flyouts': 1, 'groundouts': 0, 'airouts': 1, 'runs': 0, 'doubles': 0, 'triples': 0, 'homeruns': 0, 'strikeouts': 1, 'baseonballs': 0, 'intentionalwalks': 0, 'hits': 2, 'hitbypitch': 0, 'atbats': 3, 'caughtstealing': 1, 'stolenbases': 0, 'stolenbasepercentage': '.000', 'groundintodoubleplay': 0, 'groundintotripleplay': 0, 'plateappearances': 4, 'totalbases': 2, 'rbi': 1, 'leftonbase': 0, 'sacbunts': 0, 'sacflies': 1, 'catchersinterference': 0, 'pickoffs': 0, 'atbatsperhomerun': '-.--', 'popouts': 0, 'lineouts': 0}, 'pitching': {}, 'fielding': {'gamesstarted': 1, 'caughtstealing': 0, 'stolenbases': 0, 'stolenbasepercentage': '.---', 'caughtstealingpercentage': '.---', 'assists': 0, 'putouts': 1, 'errors': 0, 'chances': 1, 'fielding': '.000', 'passedball': 0, 'pickoffs': 0}}, seasonstats={'batting': {'gamesplayed': 117, 'flyouts': 45, 'groundouts': 112, 'airouts': 93, 'runs': 48, 'doubles': 16, 'triples': 1, 'homeruns': 10, 'strikeouts': 52, 'baseonballs': 35, 'intentionalwalks': 2, 'hits': 86, 'hitbypitch': 2, 'avg': '.257', 'atbats': 334, 'obp': '.329', 'slg': '.401', 'ops': '.730', 'caughtstealing': 4, 'stolenbases': 2, 'stolenbasepercentage': '.333', 'caughtstealingpercentage': '.667', 'groundintodoubleplay': 11, 'groundintotripleplay': 0, 'plateappearances': 380, 'totalbases': 134, 'rbi': 58, 'leftonbase': 149, 'sacbunts': 6, 'sacflies': 3, 'babip': '.276', 'groundoutstoairouts': '1.20', 'catchersinterference': 0, 'pickoffs': 0, 'atbatsperhomerun': '33.40', 'popouts': 20, 'lineouts': 28}, 'pitching': {'gamesplayed': 0, 'gamesstarted': 0, 'flyouts': 0, 'groundouts': 0, 'airouts': 0, 'runs': 0, 'doubles': 0, 'triples': 0, 'homeruns': 0, 'strikeouts': 0, 'baseonballs': 0, 'intentionalwalks': 0, 'hits': 0, 'hitbypitch': 0, 'atbats': 0, 'obp': '.000', 'caughtstealing': 0, 'stolenbases': 0, 'stolenbasepercentage': '.---', 'caughtstealingpercentage': '.---', 'numberofpitches': 0, 'era': '-.--', 'inningspitched': '0.0', 'wins': 0, 'losses': 0, 'saves': 0, 'saveopportunities': 0, 'holds': 0, 'blownsaves': 0, 'earnedruns': 0, 'whip': '-', 'battersfaced': 0, 'outs': 0, 'gamespitched': 0, 'completegames': 0, 'shutouts': 0, 'balls': 0, 'strikes': 0, 'strikepercentage': '-.--', 'hitbatsmen': 0, 'balks': 0, 'wildpitches': 0, 'pickoffs': 0, 'groundoutstoairouts': '-.--', 'rbi': 0, 'winpercentage': '.---', 'pitchesperinning': '-.--', 'gamesfinished': 0, 'strikeoutwalkratio': '-.--', 'strikeoutsper9inn': '-.--', 'walksper9inn': '-.--', 'hitsper9inn': '-.--', 'runsscoredper9': '-.--', 'homerunsper9': '-.--', 'inheritedrunners': 0, 'inheritedrunnersscored': 0, 'catchersinterference': 0, 'sacbunts': 0, 'sacflies': 0, 'passedball': 0, 'popouts': 0, 'lineouts': 0}, 'fielding': {'gamesstarted': 1, 'caughtstealing': 0, 'stolenbases': 0, 'stolenbasepercentage': '.---', 'caughtstealingpercentage': '.---', 'assists': 8, 'putouts': 181, 'errors': 2, 'chances': 191, 'fielding': '.990', 'passedball': 0, 'pickoffs': 0}}, gamestatus=GameStatus(iscurrentbatter=False, iscurrentpitcher=False, isonbench=False, issubstitute=False), position=Position(code='7', name='Outfielder', type='Outfielder', abbreviation='LF'), battingorder='800', jerseynumber='38', parentteamid=141, allpositions=[Position(code='7', name='Outfielder', type='Outfielder', abbreviation='LF')]),\n",
       " 'id680718': PlayersDictPerson(person=Person(id=680718, link=/api/v1/people/680718, fullname=Addison Barger, boxscorename=Barger), status=CodeDesc(code='A', description='Active'), stats={'batting': {'note': 'a-', 'summary': '1-1 | SB', 'gamesplayed': 1, 'flyouts': 0, 'groundouts': 0, 'airouts': 0, 'runs': 0, 'doubles': 0, 'triples': 0, 'homeruns': 0, 'strikeouts': 0, 'baseonballs': 0, 'intentionalwalks': 0, 'hits': 1, 'hitbypitch': 0, 'atbats': 1, 'caughtstealing': 0, 'stolenbases': 1, 'stolenbasepercentage': '1.000', 'groundintodoubleplay': 0, 'groundintotripleplay': 0, 'plateappearances': 1, 'totalbases': 1, 'rbi': 0, 'leftonbase': 0, 'sacbunts': 0, 'sacflies': 0, 'catchersinterference': 0, 'pickoffs': 0, 'atbatsperhomerun': '-.--', 'popouts': 0, 'lineouts': 0}, 'pitching': {}, 'fielding': {'caughtstealing': 0, 'stolenbases': 0, 'stolenbasepercentage': '.---', 'caughtstealingpercentage': '.---', 'assists': 0, 'putouts': 0, 'errors': 0, 'chances': 0, 'fielding': '.000', 'passedball': 0, 'pickoffs': 0}}, seasonstats={'batting': {'gamesplayed': 117, 'flyouts': 44, 'groundouts': 94, 'airouts': 105, 'runs': 56, 'doubles': 27, 'triples': 1, 'homeruns': 19, 'strikeouts': 108, 'baseonballs': 29, 'intentionalwalks': 4, 'hits': 101, 'hitbypitch': 2, 'avg': '.249', 'atbats': 406, 'obp': '.301', 'slg': '.461', 'ops': '.762', 'caughtstealing': 1, 'stolenbases': 4, 'stolenbasepercentage': '.800', 'caughtstealingpercentage': '.200', 'groundintodoubleplay': 6, 'groundintotripleplay': 0, 'plateappearances': 440, 'totalbases': 187, 'rbi': 65, 'leftonbase': 196, 'sacbunts': 0, 'sacflies': 2, 'babip': '.292', 'groundoutstoairouts': '0.90', 'catchersinterference': 1, 'pickoffs': 0, 'atbatsperhomerun': '21.37', 'popouts': 29, 'lineouts': 32}, 'pitching': {'gamesplayed': 0, 'gamesstarted': 0, 'flyouts': 0, 'groundouts': 0, 'airouts': 0, 'runs': 0, 'doubles': 0, 'triples': 0, 'homeruns': 0, 'strikeouts': 0, 'baseonballs': 0, 'intentionalwalks': 0, 'hits': 0, 'hitbypitch': 0, 'atbats': 0, 'obp': '.000', 'caughtstealing': 0, 'stolenbases': 0, 'stolenbasepercentage': '.---', 'caughtstealingpercentage': '.---', 'numberofpitches': 0, 'era': '-.--', 'inningspitched': '0.0', 'wins': 0, 'losses': 0, 'saves': 0, 'saveopportunities': 0, 'holds': 0, 'blownsaves': 0, 'earnedruns': 0, 'whip': '-', 'battersfaced': 0, 'outs': 0, 'gamespitched': 0, 'completegames': 0, 'shutouts': 0, 'balls': 0, 'strikes': 0, 'strikepercentage': '-.--', 'hitbatsmen': 0, 'balks': 0, 'wildpitches': 0, 'pickoffs': 0, 'groundoutstoairouts': '-.--', 'rbi': 0, 'winpercentage': '.---', 'pitchesperinning': '-.--', 'gamesfinished': 0, 'strikeoutwalkratio': '-.--', 'strikeoutsper9inn': '-.--', 'walksper9inn': '-.--', 'hitsper9inn': '-.--', 'runsscoredper9': '-.--', 'homerunsper9': '-.--', 'inheritedrunners': 0, 'inheritedrunnersscored': 0, 'catchersinterference': 0, 'sacbunts': 0, 'sacflies': 0, 'passedball': 0, 'popouts': 0, 'lineouts': 0}, 'fielding': {'caughtstealing': 0, 'stolenbases': 0, 'stolenbasepercentage': '.---', 'caughtstealingpercentage': '.---', 'assists': 101, 'putouts': 130, 'errors': 9, 'chances': 240, 'fielding': '.963', 'passedball': 0, 'pickoffs': 0}}, gamestatus=GameStatus(iscurrentbatter=False, iscurrentpitcher=False, isonbench=False, issubstitute=True), position=Position(code='5', name='Third Base', type='Infielder', abbreviation='3B'), battingorder='201', jerseynumber='47', parentteamid=141, allpositions=[Position(code='11', name='Pinch Hitter', type='Hitter', abbreviation='PH'), Position(code='5', name='Third Base', type='Infielder', abbreviation='3B')]),\n",
       " 'id453286': PlayersDictPerson(person=Person(id=453286, link=/api/v1/people/453286, fullname=Max Scherzer, boxscorename=Scherzer), status=CodeDesc(code='A', description='Active'), stats={'batting': {}, 'pitching': {'note': '(L, 5-3)', 'summary': '4.1 IP, 4 ER, 8 K, 4 BB', 'gamesplayed': 1, 'gamesstarted': 1, 'flyouts': 1, 'groundouts': 0, 'airouts': 5, 'runs': 4, 'doubles': 1, 'triples': 0, 'homeruns': 1, 'strikeouts': 8, 'baseonballs': 4, 'intentionalwalks': 0, 'hits': 3, 'hitbypitch': 0, 'atbats': 16, 'caughtstealing': 0, 'stolenbases': 2, 'stolenbasepercentage': '1.000', 'numberofpitches': 93, 'inningspitched': '4.1', 'wins': 0, 'losses': 1, 'saves': 0, 'saveopportunities': 0, 'holds': 0, 'blownsaves': 0, 'earnedruns': 4, 'battersfaced': 20, 'outs': 13, 'gamespitched': 1, 'completegames': 0, 'shutouts': 0, 'pitchesthrown': 93, 'balls': 42, 'strikes': 51, 'strikepercentage': '.550', 'hitbatsmen': 0, 'balks': 0, 'wildpitches': 0, 'pickoffs': 0, 'rbi': 4, 'gamesfinished': 0, 'runsscoredper9': '8.31', 'homerunsper9': '2.08', 'inheritedrunners': 0, 'inheritedrunnersscored': 0, 'catchersinterference': 0, 'sacbunts': 0, 'sacflies': 0, 'passedball': 0, 'popouts': 3, 'lineouts': 1}, 'fielding': {'gamesstarted': 1, 'caughtstealing': 0, 'stolenbases': 0, 'stolenbasepercentage': '.---', 'caughtstealingpercentage': '.---', 'assists': 0, 'putouts': 0, 'errors': 0, 'chances': 0, 'fielding': '.000', 'passedball': 0, 'pickoffs': 0}}, seasonstats={'batting': {'gamesplayed': 0, 'flyouts': 0, 'groundouts': 0, 'airouts': 0, 'runs': 0, 'doubles': 0, 'triples': 0, 'homeruns': 0, 'strikeouts': 0, 'baseonballs': 0, 'intentionalwalks': 0, 'hits': 0, 'hitbypitch': 0, 'avg': '.000', 'atbats': 0, 'obp': '.000', 'slg': '.000', 'ops': '.000', 'caughtstealing': 0, 'stolenbases': 0, 'stolenbasepercentage': '.---', 'caughtstealingpercentage': '.---', 'groundintodoubleplay': 0, 'groundintotripleplay': 0, 'plateappearances': 0, 'totalbases': 0, 'rbi': 0, 'leftonbase': 0, 'sacbunts': 0, 'sacflies': 0, 'babip': '.---', 'groundoutstoairouts': '-.--', 'catchersinterference': 0, 'pickoffs': 0, 'atbatsperhomerun': '-.--', 'popouts': 0, 'lineouts': 0}, 'pitching': {'gamesplayed': 14, 'gamesstarted': 14, 'flyouts': 58, 'groundouts': 40, 'airouts': 104, 'runs': 36, 'doubles': 15, 'triples': 0, 'homeruns': 16, 'strikeouts': 70, 'baseonballs': 20, 'intentionalwalks': 0, 'hits': 66, 'hitbypitch': 2, 'atbats': 279, 'obp': '.291', 'caughtstealing': 3, 'stolenbases': 6, 'stolenbasepercentage': '.667', 'caughtstealingpercentage': '.333', 'numberofpitches': 1168, 'era': '4.36', 'inningspitched': '74.1', 'wins': 5, 'losses': 3, 'saves': 0, 'saveopportunities': 0, 'holds': 0, 'blownsaves': 0, 'earnedruns': 36, 'whip': '1.16', 'battersfaced': 302, 'outs': 223, 'gamespitched': 14, 'completegames': 0, 'shutouts': 0, 'pitchesthrown': 1168, 'balls': 403, 'strikes': 765, 'strikepercentage': '.650', 'hitbatsmen': 2, 'balks': 0, 'wildpitches': 1, 'pickoffs': 0, 'groundoutstoairouts': '0.38', 'rbi': 4, 'winpercentage': '.625', 'pitchesperinning': '15.71', 'gamesfinished': 0, 'strikeoutwalkratio': '3.50', 'strikeoutsper9inn': '8.48', 'walksper9inn': '2.42', 'hitsper9inn': '7.99', 'runsscoredper9': '4.36', 'homerunsper9': '1.94', 'inheritedrunners': 0, 'inheritedrunnersscored': 0, 'catchersinterference': 0, 'sacbunts': 0, 'sacflies': 1, 'passedball': 0, 'popouts': 24, 'lineouts': 22}, 'fielding': {'gamesstarted': 1, 'caughtstealing': 0, 'stolenbases': 0, 'stolenbasepercentage': '.---', 'caughtstealingpercentage': '.---', 'assists': 4, 'putouts': 4, 'errors': 0, 'chances': 8, 'fielding': '1.000', 'passedball': 0, 'pickoffs': 0}}, gamestatus=GameStatus(iscurrentbatter=False, iscurrentpitcher=False, isonbench=False, issubstitute=False), position=Position(code='1', name='Pitcher', type='Pitcher', abbreviation='P'), battingorder=None, jerseynumber='31', parentteamid=141, allpositions=[Position(code='1', name='Pitcher', type='Pitcher', abbreviation='P')]),\n",
       " 'id543807': PlayersDictPerson(person=Person(id=543807, link=/api/v1/people/543807, fullname=George Springer, boxscorename=Springer), status=CodeDesc(code='A', description='Active'), stats={'batting': {'summary': '1-4 | 2B, R', 'gamesplayed': 1, 'flyouts': 0, 'groundouts': 1, 'airouts': 2, 'runs': 1, 'doubles': 1, 'triples': 0, 'homeruns': 0, 'strikeouts': 0, 'baseonballs': 0, 'intentionalwalks': 0, 'hits': 1, 'hitbypitch': 0, 'atbats': 4, 'caughtstealing': 0, 'stolenbases': 0, 'stolenbasepercentage': '.---', 'groundintodoubleplay': 0, 'groundintotripleplay': 0, 'plateappearances': 4, 'totalbases': 2, 'rbi': 0, 'leftonbase': 1, 'sacbunts': 0, 'sacflies': 0, 'catchersinterference': 0, 'pickoffs': 0, 'atbatsperhomerun': '-.--', 'popouts': 1, 'lineouts': 1}, 'pitching': {}, 'fielding': {'gamesstarted': 1, 'caughtstealing': 0, 'stolenbases': 0, 'stolenbasepercentage': '.---', 'caughtstealingpercentage': '.---', 'assists': 0, 'putouts': 1, 'errors': 0, 'chances': 1, 'fielding': '.000', 'passedball': 0, 'pickoffs': 0}}, seasonstats={'batting': {'gamesplayed': 121, 'flyouts': 58, 'groundouts': 93, 'airouts': 115, 'runs': 92, 'doubles': 21, 'triples': 1, 'homeruns': 27, 'strikeouts': 91, 'baseonballs': 60, 'intentionalwalks': 3, 'hits': 127, 'hitbypitch': 8, 'avg': '.301', 'atbats': 422, 'obp': '.395', 'slg': '.547', 'ops': '.942', 'caughtstealing': 0, 'stolenbases': 16, 'stolenbasepercentage': '1.000', 'caughtstealingpercentage': '.000', 'groundintodoubleplay': 11, 'groundintotripleplay': 0, 'plateappearances': 500, 'totalbases': 231, 'rbi': 72, 'leftonbase': 166, 'sacbunts': 0, 'sacflies': 4, 'babip': '.325', 'groundoutstoairouts': '0.81', 'catchersinterference': 6, 'pickoffs': 0, 'atbatsperhomerun': '15.63', 'popouts': 30, 'lineouts': 27}, 'pitching': {'gamesplayed': 0, 'gamesstarted': 0, 'flyouts': 0, 'groundouts': 0, 'airouts': 0, 'runs': 0, 'doubles': 0, 'triples': 0, 'homeruns': 0, 'strikeouts': 0, 'baseonballs': 0, 'intentionalwalks': 0, 'hits': 0, 'hitbypitch': 0, 'atbats': 0, 'obp': '.000', 'caughtstealing': 0, 'stolenbases': 0, 'stolenbasepercentage': '.---', 'caughtstealingpercentage': '.---', 'numberofpitches': 0, 'era': '-.--', 'inningspitched': '0.0', 'wins': 0, 'losses': 0, 'saves': 0, 'saveopportunities': 0, 'holds': 0, 'blownsaves': 0, 'earnedruns': 0, 'whip': '-', 'battersfaced': 0, 'outs': 0, 'gamespitched': 0, 'completegames': 0, 'shutouts': 0, 'balls': 0, 'strikes': 0, 'strikepercentage': '-.--', 'hitbatsmen': 0, 'balks': 0, 'wildpitches': 0, 'pickoffs': 0, 'groundoutstoairouts': '-.--', 'rbi': 0, 'winpercentage': '.---', 'pitchesperinning': '-.--', 'gamesfinished': 0, 'strikeoutwalkratio': '-.--', 'strikeoutsper9inn': '-.--', 'walksper9inn': '-.--', 'hitsper9inn': '-.--', 'runsscoredper9': '-.--', 'homerunsper9': '-.--', 'inheritedrunners': 0, 'inheritedrunnersscored': 0, 'catchersinterference': 0, 'sacbunts': 0, 'sacflies': 0, 'passedball': 0, 'popouts': 0, 'lineouts': 0}, 'fielding': {'gamesstarted': 1, 'caughtstealing': 0, 'stolenbases': 0, 'stolenbasepercentage': '.---', 'caughtstealingpercentage': '.---', 'assists': 1, 'putouts': 76, 'errors': 1, 'chances': 78, 'fielding': '.987', 'passedball': 0, 'pickoffs': 0}}, gamestatus=GameStatus(iscurrentbatter=False, iscurrentpitcher=False, isonbench=False, issubstitute=False), position=Position(code='9', name='Outfielder', type='Outfielder', abbreviation='RF'), battingorder='100', jerseynumber='4', parentteamid=141, allpositions=[Position(code='9', name='Outfielder', type='Outfielder', abbreviation='RF')]),\n",
       " 'id684320': PlayersDictPerson(person=Person(id=684320, link=/api/v1/people/684320, fullname=Yariel Rodríguez, boxscorename=Rodríguez, Y), status=CodeDesc(code='A', description='Active'), stats={'batting': {}, 'pitching': {}, 'fielding': {}}, seasonstats={'batting': {'gamesplayed': 0, 'flyouts': 0, 'groundouts': 0, 'airouts': 0, 'runs': 0, 'doubles': 0, 'triples': 0, 'homeruns': 0, 'strikeouts': 0, 'baseonballs': 0, 'intentionalwalks': 0, 'hits': 0, 'hitbypitch': 0, 'avg': '.000', 'atbats': 0, 'obp': '.000', 'slg': '.000', 'ops': '.000', 'caughtstealing': 0, 'stolenbases': 0, 'stolenbasepercentage': '.---', 'caughtstealingpercentage': '.---', 'groundintodoubleplay': 0, 'groundintotripleplay': 0, 'plateappearances': 0, 'totalbases': 0, 'rbi': 0, 'leftonbase': 0, 'sacbunts': 0, 'sacflies': 0, 'babip': '.---', 'groundoutstoairouts': '-.--', 'catchersinterference': 0, 'pickoffs': 0, 'atbatsperhomerun': '-.--', 'popouts': 0, 'lineouts': 0}, 'pitching': {'gamesplayed': 59, 'gamesstarted': 1, 'flyouts': 31, 'groundouts': 59, 'airouts': 67, 'runs': 24, 'doubles': 6, 'triples': 1, 'homeruns': 7, 'strikeouts': 61, 'baseonballs': 29, 'intentionalwalks': 2, 'hits': 43, 'hitbypitch': 5, 'atbats': 227, 'obp': '.294', 'caughtstealing': 0, 'stolenbases': 6, 'stolenbasepercentage': '1.000', 'caughtstealingpercentage': '.000', 'numberofpitches': 1046, 'era': '3.14', 'inningspitched': '66.0', 'wins': 2, 'losses': 1, 'saves': 2, 'saveopportunities': 3, 'holds': 13, 'blownsaves': 1, 'earnedruns': 23, 'whip': '1.09', 'battersfaced': 264, 'outs': 198, 'gamespitched': 59, 'completegames': 0, 'shutouts': 0, 'pitchesthrown': 1046, 'balls': 426, 'strikes': 620, 'strikepercentage': '.590', 'hitbatsmen': 5, 'balks': 1, 'wildpitches': 2, 'pickoffs': 1, 'groundoutstoairouts': '0.88', 'rbi': 0, 'winpercentage': '.667', 'pitchesperinning': '15.85', 'gamesfinished': 16, 'strikeoutwalkratio': '2.10', 'strikeoutsper9inn': '8.32', 'walksper9inn': '3.95', 'hitsper9inn': '5.86', 'runsscoredper9': '3.27', 'homerunsper9': '0.95', 'inheritedrunners': 34, 'inheritedrunnersscored': 4, 'catchersinterference': 0, 'sacbunts': 2, 'sacflies': 1, 'passedball': 0, 'popouts': 14, 'lineouts': 22}, 'fielding': {'caughtstealing': 0, 'stolenbases': 0, 'stolenbasepercentage': '.---', 'caughtstealingpercentage': '.---', 'assists': 8, 'putouts': 1, 'errors': 0, 'chances': 9, 'fielding': '1.000', 'passedball': 0, 'pickoffs': 0}}, gamestatus=GameStatus(iscurrentbatter=False, iscurrentpitcher=False, isonbench=True, issubstitute=False), position=Position(code='1', name='Pitcher', type='Pitcher', abbreviation='P'), battingorder=None, jerseynumber='29', parentteamid=141, allpositions=None),\n",
       " 'id680755': PlayersDictPerson(person=Person(id=680755, link=/api/v1/people/680755, fullname=Braydon Fisher, boxscorename=Fisher), status=CodeDesc(code='A', description='Active'), stats={'batting': {}, 'pitching': {'summary': '1.0 IP, 0 ER, 3 K, 0 BB', 'gamesplayed': 1, 'gamesstarted': 0, 'flyouts': 0, 'groundouts': 0, 'airouts': 0, 'runs': 0, 'doubles': 0, 'triples': 0, 'homeruns': 0, 'strikeouts': 3, 'baseonballs': 0, 'intentionalwalks': 0, 'hits': 0, 'hitbypitch': 0, 'atbats': 3, 'caughtstealing': 0, 'stolenbases': 0, 'stolenbasepercentage': '.---', 'numberofpitches': 13, 'inningspitched': '1.0', 'wins': 0, 'losses': 0, 'saves': 0, 'saveopportunities': 0, 'holds': 0, 'blownsaves': 0, 'earnedruns': 0, 'battersfaced': 3, 'outs': 3, 'gamespitched': 1, 'completegames': 0, 'shutouts': 0, 'pitchesthrown': 13, 'balls': 4, 'strikes': 9, 'strikepercentage': '.690', 'hitbatsmen': 0, 'balks': 0, 'wildpitches': 0, 'pickoffs': 0, 'rbi': 0, 'gamesfinished': 0, 'runsscoredper9': '0.00', 'homerunsper9': '0.00', 'inheritedrunners': 0, 'inheritedrunnersscored': 0, 'catchersinterference': 0, 'sacbunts': 0, 'sacflies': 0, 'passedball': 0, 'popouts': 0, 'lineouts': 0}, 'fielding': {'caughtstealing': 0, 'stolenbases': 0, 'stolenbasepercentage': '.---', 'caughtstealingpercentage': '.---', 'assists': 0, 'putouts': 0, 'errors': 0, 'chances': 0, 'fielding': '.000', 'passedball': 0, 'pickoffs': 0}}, seasonstats={'batting': {'gamesplayed': 0, 'flyouts': 0, 'groundouts': 0, 'airouts': 0, 'runs': 0, 'doubles': 0, 'triples': 0, 'homeruns': 0, 'strikeouts': 0, 'baseonballs': 0, 'intentionalwalks': 0, 'hits': 0, 'hitbypitch': 0, 'avg': '.000', 'atbats': 0, 'obp': '.000', 'slg': '.000', 'ops': '.000', 'caughtstealing': 0, 'stolenbases': 0, 'stolenbasepercentage': '.---', 'caughtstealingpercentage': '.---', 'groundintodoubleplay': 0, 'groundintotripleplay': 0, 'plateappearances': 0, 'totalbases': 0, 'rbi': 0, 'leftonbase': 0, 'sacbunts': 0, 'sacflies': 0, 'babip': '.---', 'groundoutstoairouts': '-.--', 'catchersinterference': 0, 'pickoffs': 0, 'atbatsperhomerun': '-.--', 'popouts': 0, 'lineouts': 0}, 'pitching': {'gamesplayed': 43, 'gamesstarted': 1, 'flyouts': 24, 'groundouts': 28, 'airouts': 41, 'runs': 13, 'doubles': 4, 'triples': 0, 'homeruns': 3, 'strikeouts': 53, 'baseonballs': 13, 'intentionalwalks': 1, 'hits': 27, 'hitbypitch': 3, 'atbats': 147, 'obp': '.261', 'caughtstealing': 0, 'stolenbases': 5, 'stolenbasepercentage': '1.000', 'caughtstealingpercentage': '.000', 'numberofpitches': 676, 'era': '2.88', 'inningspitched': '40.2', 'wins': 4, 'losses': 0, 'saves': 0, 'saveopportunities': 1, 'holds': 5, 'blownsaves': 1, 'earnedruns': 13, 'whip': '0.98', 'battersfaced': 165, 'outs': 122, 'gamespitched': 43, 'completegames': 0, 'shutouts': 0, 'pitchesthrown': 676, 'balls': 225, 'strikes': 451, 'strikepercentage': '.670', 'hitbatsmen': 3, 'balks': 0, 'wildpitches': 0, 'pickoffs': 0, 'groundoutstoairouts': '0.68', 'rbi': 0, 'winpercentage': '1.000', 'pitchesperinning': '16.62', 'gamesfinished': 10, 'strikeoutwalkratio': '4.08', 'strikeoutsper9inn': '11.73', 'walksper9inn': '2.88', 'hitsper9inn': '5.98', 'runsscoredper9': '2.88', 'homerunsper9': '0.66', 'inheritedrunners': 26, 'inheritedrunnersscored': 8, 'catchersinterference': 0, 'sacbunts': 0, 'sacflies': 2, 'passedball': 0, 'popouts': 10, 'lineouts': 7}, 'fielding': {'caughtstealing': 0, 'stolenbases': 0, 'stolenbasepercentage': '.---', 'caughtstealingpercentage': '.---', 'assists': 4, 'putouts': 0, 'errors': 0, 'chances': 4, 'fielding': '1.000', 'passedball': 0, 'pickoffs': 0}}, gamestatus=GameStatus(iscurrentbatter=False, iscurrentpitcher=False, isonbench=False, issubstitute=False), position=Position(code='1', name='Pitcher', type='Pitcher', abbreviation='P'), battingorder=None, jerseynumber='63', parentteamid=141, allpositions=[Position(code='1', name='Pitcher', type='Pitcher', abbreviation='P')]),\n",
       " 'id664034': PlayersDictPerson(person=Person(id=664034, link=/api/v1/people/664034, fullname=Ty France, boxscorename=France, T), status=CodeDesc(code='A', description='Active'), stats={'batting': {'summary': '0-4', 'gamesplayed': 1, 'flyouts': 0, 'groundouts': 3, 'airouts': 1, 'runs': 0, 'doubles': 0, 'triples': 0, 'homeruns': 0, 'strikeouts': 0, 'baseonballs': 0, 'intentionalwalks': 0, 'hits': 0, 'hitbypitch': 0, 'atbats': 4, 'caughtstealing': 0, 'stolenbases': 0, 'stolenbasepercentage': '.---', 'groundintodoubleplay': 0, 'groundintotripleplay': 0, 'plateappearances': 4, 'totalbases': 0, 'rbi': 0, 'leftonbase': 6, 'sacbunts': 0, 'sacflies': 0, 'catchersinterference': 0, 'pickoffs': 0, 'atbatsperhomerun': '-.--', 'popouts': 1, 'lineouts': 0}, 'pitching': {}, 'fielding': {'gamesstarted': 1, 'caughtstealing': 0, 'stolenbases': 0, 'stolenbasepercentage': '.---', 'caughtstealingpercentage': '.---', 'assists': 0, 'putouts': 5, 'errors': 0, 'chances': 5, 'fielding': '.000', 'passedball': 0, 'pickoffs': 0}}, seasonstats={'batting': {'gamesplayed': 128, 'flyouts': 66, 'groundouts': 129, 'airouts': 109, 'runs': 50, 'doubles': 25, 'triples': 0, 'homeruns': 7, 'strikeouts': 78, 'baseonballs': 22, 'intentionalwalks': 1, 'hits': 112, 'hitbypitch': 21, 'avg': '.264', 'atbats': 425, 'obp': '.329', 'slg': '.372', 'ops': '.701', 'caughtstealing': 0, 'stolenbases': 1, 'stolenbasepercentage': '1.000', 'caughtstealingpercentage': '.000', 'groundintodoubleplay': 11, 'groundintotripleplay': 0, 'plateappearances': 471, 'totalbases': 158, 'rbi': 52, 'leftonbase': 173, 'sacbunts': 0, 'sacflies': 3, 'babip': '.306', 'groundoutstoairouts': '1.18', 'catchersinterference': 0, 'pickoffs': 0, 'atbatsperhomerun': '60.71', 'popouts': 12, 'lineouts': 31}, 'pitching': {'gamesplayed': 0, 'gamesstarted': 0, 'flyouts': 0, 'groundouts': 0, 'airouts': 0, 'runs': 0, 'doubles': 0, 'triples': 0, 'homeruns': 0, 'strikeouts': 0, 'baseonballs': 0, 'intentionalwalks': 0, 'hits': 0, 'hitbypitch': 0, 'atbats': 0, 'obp': '.000', 'caughtstealing': 0, 'stolenbases': 0, 'stolenbasepercentage': '.---', 'caughtstealingpercentage': '.---', 'numberofpitches': 0, 'era': '-.--', 'inningspitched': '0.0', 'wins': 0, 'losses': 0, 'saves': 0, 'saveopportunities': 0, 'holds': 0, 'blownsaves': 0, 'earnedruns': 0, 'whip': '-', 'battersfaced': 0, 'outs': 0, 'gamespitched': 0, 'completegames': 0, 'shutouts': 0, 'balls': 0, 'strikes': 0, 'strikepercentage': '-.--', 'hitbatsmen': 0, 'balks': 0, 'wildpitches': 0, 'pickoffs': 0, 'groundoutstoairouts': '-.--', 'rbi': 0, 'winpercentage': '.---', 'pitchesperinning': '-.--', 'gamesfinished': 0, 'strikeoutwalkratio': '-.--', 'strikeoutsper9inn': '-.--', 'walksper9inn': '-.--', 'hitsper9inn': '-.--', 'runsscoredper9': '-.--', 'homerunsper9': '-.--', 'inheritedrunners': 0, 'inheritedrunnersscored': 0, 'catchersinterference': 0, 'sacbunts': 0, 'sacflies': 0, 'passedball': 0, 'popouts': 0, 'lineouts': 0}, 'fielding': {'gamesstarted': 1, 'caughtstealing': 0, 'stolenbases': 0, 'stolenbasepercentage': '.---', 'caughtstealingpercentage': '.---', 'assists': 70, 'putouts': 731, 'errors': 2, 'chances': 803, 'fielding': '.998', 'passedball': 0, 'pickoffs': 0}}, gamestatus=GameStatus(iscurrentbatter=False, iscurrentpitcher=False, isonbench=False, issubstitute=False), position=Position(code='3', name='First Base', type='Infielder', abbreviation='1B'), battingorder='600', jerseynumber='2', parentteamid=141, allpositions=[Position(code='3', name='First Base', type='Infielder', abbreviation='1B')]),\n",
       " 'id623168': PlayersDictPerson(person=Person(id=623168, link=/api/v1/people/623168, fullname=Tyler Heineman, boxscorename=Heineman), status=CodeDesc(code='A', description='Active'), stats={'batting': {}, 'pitching': {}, 'fielding': {}}, seasonstats={'batting': {'gamesplayed': 53, 'flyouts': 20, 'groundouts': 25, 'airouts': 44, 'runs': 22, 'doubles': 8, 'triples': 1, 'homeruns': 3, 'strikeouts': 27, 'baseonballs': 12, 'intentionalwalks': 0, 'hits': 40, 'hitbypitch': 5, 'avg': '.305', 'atbats': 131, 'obp': '.380', 'slg': '.450', 'ops': '.830', 'caughtstealing': 0, 'stolenbases': 2, 'stolenbasepercentage': '1.000', 'caughtstealingpercentage': '.000', 'groundintodoubleplay': 1, 'groundintotripleplay': 0, 'plateappearances': 153, 'totalbases': 59, 'rbi': 18, 'leftonbase': 45, 'sacbunts': 3, 'sacflies': 2, 'babip': '.359', 'groundoutstoairouts': '0.57', 'catchersinterference': 0, 'pickoffs': 0, 'atbatsperhomerun': '43.67', 'popouts': 16, 'lineouts': 8}, 'pitching': {'gamesplayed': 2, 'gamesstarted': 0, 'flyouts': 2, 'groundouts': 3, 'airouts': 3, 'runs': 2, 'doubles': 1, 'triples': 0, 'homeruns': 0, 'strikeouts': 0, 'baseonballs': 0, 'intentionalwalks': 0, 'hits': 2, 'hitbypitch': 2, 'atbats': 7, 'obp': '.400', 'caughtstealing': 0, 'stolenbases': 0, 'stolenbasepercentage': '.---', 'caughtstealingpercentage': '.---', 'numberofpitches': 25, 'era': '9.00', 'inningspitched': '2.0', 'wins': 0, 'losses': 0, 'saves': 0, 'saveopportunities': 0, 'holds': 0, 'blownsaves': 0, 'earnedruns': 2, 'whip': '1.00', 'battersfaced': 10, 'outs': 6, 'gamespitched': 2, 'completegames': 0, 'shutouts': 0, 'pitchesthrown': 25, 'balls': 8, 'strikes': 17, 'strikepercentage': '.680', 'hitbatsmen': 2, 'balks': 0, 'wildpitches': 0, 'pickoffs': 0, 'groundoutstoairouts': '1.00', 'rbi': 0, 'winpercentage': '.---', 'pitchesperinning': '12.50', 'gamesfinished': 2, 'strikeoutwalkratio': '-.--', 'strikeoutsper9inn': '0.00', 'walksper9inn': '0.00', 'hitsper9inn': '9.00', 'runsscoredper9': '9.00', 'homerunsper9': '0.00', 'inheritedrunners': 0, 'inheritedrunnersscored': 0, 'catchersinterference': 0, 'sacbunts': 0, 'sacflies': 1, 'passedball': 0, 'popouts': 0, 'lineouts': 1}, 'fielding': {'caughtstealing': 15, 'stolenbases': 33, 'stolenbasepercentage': '.688', 'caughtstealingpercentage': '.313', 'assists': 27, 'putouts': 390, 'errors': 8, 'chances': 425, 'fielding': '.981', 'passedball': 0, 'pickoffs': 1}}, gamestatus=GameStatus(iscurrentbatter=False, iscurrentpitcher=False, isonbench=True, issubstitute=False), position=Position(code='2', name='Catcher', type='Catcher', abbreviation='C'), battingorder=None, jerseynumber='55', parentteamid=141, allpositions=None),\n",
       " 'id665489': PlayersDictPerson(person=Person(id=665489, link=/api/v1/people/665489, fullname=Vladimir Guerrero Jr., boxscorename=Guerrero Jr.), status=CodeDesc(code='A', description='Active'), stats={'batting': {'summary': '2-4 | 2B, K, RBI', 'gamesplayed': 1, 'flyouts': 0, 'groundouts': 1, 'airouts': 0, 'runs': 0, 'doubles': 1, 'triples': 0, 'homeruns': 0, 'strikeouts': 1, 'baseonballs': 0, 'intentionalwalks': 0, 'hits': 2, 'hitbypitch': 0, 'atbats': 4, 'caughtstealing': 0, 'stolenbases': 0, 'stolenbasepercentage': '.---', 'groundintodoubleplay': 0, 'groundintotripleplay': 0, 'plateappearances': 4, 'totalbases': 3, 'rbi': 1, 'leftonbase': 1, 'sacbunts': 0, 'sacflies': 0, 'catchersinterference': 0, 'pickoffs': 0, 'atbatsperhomerun': '-.--', 'popouts': 0, 'lineouts': 0}, 'pitching': {}, 'fielding': {'caughtstealing': 0, 'stolenbases': 0, 'stolenbasepercentage': '.---', 'caughtstealingpercentage': '.---', 'assists': 0, 'putouts': 0, 'errors': 0, 'chances': 0, 'fielding': '.000', 'passedball': 0, 'pickoffs': 0}}, seasonstats={'batting': {'gamesplayed': 137, 'flyouts': 67, 'groundouts': 150, 'airouts': 130, 'runs': 92, 'doubles': 33, 'triples': 0, 'homeruns': 23, 'strikeouts': 84, 'baseonballs': 76, 'intentionalwalks': 7, 'hits': 155, 'hitbypitch': 6, 'avg': '.301', 'atbats': 515, 'obp': '.394', 'slg': '.499', 'ops': '.893', 'caughtstealing': 2, 'stolenbases': 6, 'stolenbasepercentage': '.750', 'caughtstealingpercentage': '.250', 'groundintodoubleplay': 14, 'groundintotripleplay': 0, 'plateappearances': 601, 'totalbases': 257, 'rbi': 79, 'leftonbase': 201, 'sacbunts': 0, 'sacflies': 4, 'babip': '.320', 'groundoutstoairouts': '1.15', 'catchersinterference': 0, 'pickoffs': 0, 'atbatsperhomerun': '22.39', 'popouts': 25, 'lineouts': 38}, 'pitching': {'gamesplayed': 0, 'gamesstarted': 0, 'flyouts': 0, 'groundouts': 0, 'airouts': 0, 'runs': 0, 'doubles': 0, 'triples': 0, 'homeruns': 0, 'strikeouts': 0, 'baseonballs': 0, 'intentionalwalks': 0, 'hits': 0, 'hitbypitch': 0, 'atbats': 0, 'obp': '.000', 'caughtstealing': 0, 'stolenbases': 0, 'stolenbasepercentage': '.---', 'caughtstealingpercentage': '.---', 'numberofpitches': 0, 'era': '-.--', 'inningspitched': '0.0', 'wins': 0, 'losses': 0, 'saves': 0, 'saveopportunities': 0, 'holds': 0, 'blownsaves': 0, 'earnedruns': 0, 'whip': '-', 'battersfaced': 0, 'outs': 0, 'gamespitched': 0, 'completegames': 0, 'shutouts': 0, 'balls': 0, 'strikes': 0, 'strikepercentage': '-.--', 'hitbatsmen': 0, 'balks': 0, 'wildpitches': 0, 'pickoffs': 0, 'groundoutstoairouts': '-.--', 'rbi': 0, 'winpercentage': '.---', 'pitchesperinning': '-.--', 'gamesfinished': 0, 'strikeoutwalkratio': '-.--', 'strikeoutsper9inn': '-.--', 'walksper9inn': '-.--', 'hitsper9inn': '-.--', 'runsscoredper9': '-.--', 'homerunsper9': '-.--', 'inheritedrunners': 0, 'inheritedrunnersscored': 0, 'catchersinterference': 0, 'sacbunts': 0, 'sacflies': 0, 'passedball': 0, 'popouts': 0, 'lineouts': 0}, 'fielding': {'caughtstealing': 0, 'stolenbases': 0, 'stolenbasepercentage': '.---', 'caughtstealingpercentage': '.---', 'assists': 58, 'putouts': 763, 'errors': 9, 'chances': 830, 'fielding': '.989', 'passedball': 0, 'pickoffs': 0}}, gamestatus=GameStatus(iscurrentbatter=False, iscurrentpitcher=False, isonbench=False, issubstitute=False), position=Position(code='10', name='Designated Hitter', type='Hitter', abbreviation='DH'), battingorder='300', jerseynumber='27', parentteamid=141, allpositions=[Position(code='10', name='Designated Hitter', type='Hitter', abbreviation='DH')]),\n",
       " 'id664702': PlayersDictPerson(person=Person(id=664702, link=/api/v1/people/664702, fullname=Myles Straw, boxscorename=Straw), status=CodeDesc(code='A', description='Active'), stats={'batting': {'summary': '0-4 | K', 'gamesplayed': 1, 'flyouts': 1, 'groundouts': 2, 'airouts': 1, 'runs': 0, 'doubles': 0, 'triples': 0, 'homeruns': 0, 'strikeouts': 1, 'baseonballs': 0, 'intentionalwalks': 0, 'hits': 0, 'hitbypitch': 0, 'atbats': 4, 'caughtstealing': 0, 'stolenbases': 0, 'stolenbasepercentage': '.---', 'groundintodoubleplay': 0, 'groundintotripleplay': 0, 'plateappearances': 4, 'totalbases': 0, 'rbi': 0, 'leftonbase': 2, 'sacbunts': 0, 'sacflies': 0, 'catchersinterference': 0, 'pickoffs': 0, 'atbatsperhomerun': '-.--', 'popouts': 0, 'lineouts': 0}, 'pitching': {}, 'fielding': {'gamesstarted': 1, 'caughtstealing': 0, 'stolenbases': 0, 'stolenbasepercentage': '.---', 'caughtstealingpercentage': '.---', 'assists': 0, 'putouts': 1, 'errors': 0, 'chances': 1, 'fielding': '.000', 'passedball': 0, 'pickoffs': 0}}, seasonstats={'batting': {'gamesplayed': 120, 'flyouts': 50, 'groundouts': 64, 'airouts': 83, 'runs': 46, 'doubles': 13, 'triples': 0, 'homeruns': 4, 'strikeouts': 44, 'baseonballs': 17, 'intentionalwalks': 0, 'hits': 65, 'hitbypitch': 1, 'avg': '.265', 'atbats': 245, 'obp': '.314', 'slg': '.367', 'ops': '.681', 'caughtstealing': 1, 'stolenbases': 11, 'stolenbasepercentage': '.917', 'caughtstealingpercentage': '.083', 'groundintodoubleplay': 5, 'groundintotripleplay': 0, 'plateappearances': 274, 'totalbases': 90, 'rbi': 30, 'leftonbase': 117, 'sacbunts': 10, 'sacflies': 1, 'babip': '.308', 'groundoutstoairouts': '0.77', 'catchersinterference': 0, 'pickoffs': 0, 'atbatsperhomerun': '61.25', 'popouts': 12, 'lineouts': 21}, 'pitching': {'gamesplayed': 0, 'gamesstarted': 0, 'flyouts': 0, 'groundouts': 0, 'airouts': 0, 'runs': 0, 'doubles': 0, 'triples': 0, 'homeruns': 0, 'strikeouts': 0, 'baseonballs': 0, 'intentionalwalks': 0, 'hits': 0, 'hitbypitch': 0, 'atbats': 0, 'obp': '.000', 'caughtstealing': 0, 'stolenbases': 0, 'stolenbasepercentage': '.---', 'caughtstealingpercentage': '.---', 'numberofpitches': 0, 'era': '-.--', 'inningspitched': '0.0', 'wins': 0, 'losses': 0, 'saves': 0, 'saveopportunities': 0, 'holds': 0, 'blownsaves': 0, 'earnedruns': 0, 'whip': '-', 'battersfaced': 0, 'outs': 0, 'gamespitched': 0, 'completegames': 0, 'shutouts': 0, 'balls': 0, 'strikes': 0, 'strikepercentage': '-.--', 'hitbatsmen': 0, 'balks': 0, 'wildpitches': 0, 'pickoffs': 0, 'groundoutstoairouts': '-.--', 'rbi': 0, 'winpercentage': '.---', 'pitchesperinning': '-.--', 'gamesfinished': 0, 'strikeoutwalkratio': '-.--', 'strikeoutsper9inn': '-.--', 'walksper9inn': '-.--', 'hitsper9inn': '-.--', 'runsscoredper9': '-.--', 'homerunsper9': '-.--', 'inheritedrunners': 0, 'inheritedrunnersscored': 0, 'catchersinterference': 0, 'sacbunts': 0, 'sacflies': 0, 'passedball': 0, 'popouts': 0, 'lineouts': 0}, 'fielding': {'gamesstarted': 1, 'caughtstealing': 0, 'stolenbases': 0, 'stolenbasepercentage': '.---', 'caughtstealingpercentage': '.---', 'assists': 6, 'putouts': 167, 'errors': 1, 'chances': 174, 'fielding': '.994', 'passedball': 0, 'pickoffs': 0}}, gamestatus=GameStatus(iscurrentbatter=True, iscurrentpitcher=False, isonbench=False, issubstitute=False), position=Position(code='8', name='Outfielder', type='Outfielder', abbreviation='CF'), battingorder='900', jerseynumber='3', parentteamid=141, allpositions=[Position(code='8', name='Outfielder', type='Outfielder', abbreviation='CF')]),\n",
       " 'id672386': PlayersDictPerson(person=Person(id=672386, link=/api/v1/people/672386, fullname=Alejandro Kirk, boxscorename=Kirk), status=CodeDesc(code='A', description='Active'), stats={'batting': {'summary': '0-3 | BB, R', 'gamesplayed': 1, 'flyouts': 0, 'groundouts': 3, 'airouts': 0, 'runs': 1, 'doubles': 0, 'triples': 0, 'homeruns': 0, 'strikeouts': 0, 'baseonballs': 1, 'intentionalwalks': 0, 'hits': 0, 'hitbypitch': 0, 'atbats': 3, 'caughtstealing': 0, 'stolenbases': 0, 'stolenbasepercentage': '.---', 'groundintodoubleplay': 1, 'groundintotripleplay': 0, 'plateappearances': 4, 'totalbases': 0, 'rbi': 0, 'leftonbase': 4, 'sacbunts': 0, 'sacflies': 0, 'catchersinterference': 0, 'pickoffs': 0, 'atbatsperhomerun': '-.--', 'popouts': 0, 'lineouts': 0}, 'pitching': {}, 'fielding': {'gamesstarted': 1, 'caughtstealing': 0, 'stolenbases': 2, 'stolenbasepercentage': '1.000', 'caughtstealingpercentage': '.---', 'assists': 2, 'putouts': 12, 'errors': 0, 'chances': 14, 'fielding': '.000', 'passedball': 0, 'pickoffs': 0}}, seasonstats={'batting': {'gamesplayed': 115, 'flyouts': 67, 'groundouts': 116, 'airouts': 123, 'runs': 41, 'doubles': 17, 'triples': 0, 'homeruns': 12, 'strikeouts': 49, 'baseonballs': 44, 'intentionalwalks': 2, 'hits': 118, 'hitbypitch': 1, 'avg': '.294', 'atbats': 402, 'obp': '.361', 'slg': '.425', 'ops': '.786', 'caughtstealing': 0, 'stolenbases': 1, 'stolenbasepercentage': '1.000', 'caughtstealingpercentage': '.000', 'groundintodoubleplay': 14, 'groundintotripleplay': 0, 'plateappearances': 451, 'totalbases': 171, 'rbi': 65, 'leftonbase': 182, 'sacbunts': 0, 'sacflies': 4, 'babip': '.307', 'groundoutstoairouts': '0.94', 'catchersinterference': 0, 'pickoffs': 0, 'atbatsperhomerun': '33.50', 'popouts': 22, 'lineouts': 34}, 'pitching': {'gamesplayed': 0, 'gamesstarted': 0, 'flyouts': 0, 'groundouts': 0, 'airouts': 0, 'runs': 0, 'doubles': 0, 'triples': 0, 'homeruns': 0, 'strikeouts': 0, 'baseonballs': 0, 'intentionalwalks': 0, 'hits': 0, 'hitbypitch': 0, 'atbats': 0, 'obp': '.000', 'caughtstealing': 0, 'stolenbases': 0, 'stolenbasepercentage': '.---', 'caughtstealingpercentage': '.---', 'numberofpitches': 0, 'era': '-.--', 'inningspitched': '0.0', 'wins': 0, 'losses': 0, 'saves': 0, 'saveopportunities': 0, 'holds': 0, 'blownsaves': 0, 'earnedruns': 0, 'whip': '-', 'battersfaced': 0, 'outs': 0, 'gamespitched': 0, 'completegames': 0, 'shutouts': 0, 'balls': 0, 'strikes': 0, 'strikepercentage': '-.--', 'hitbatsmen': 0, 'balks': 0, 'wildpitches': 0, 'pickoffs': 0, 'groundoutstoairouts': '-.--', 'rbi': 0, 'winpercentage': '.---', 'pitchesperinning': '-.--', 'gamesfinished': 0, 'strikeoutwalkratio': '-.--', 'strikeoutsper9inn': '-.--', 'walksper9inn': '-.--', 'hitsper9inn': '-.--', 'runsscoredper9': '-.--', 'homerunsper9': '-.--', 'inheritedrunners': 0, 'inheritedrunnersscored': 0, 'catchersinterference': 0, 'sacbunts': 0, 'sacflies': 0, 'passedball': 0, 'popouts': 0, 'lineouts': 0}, 'fielding': {'gamesstarted': 1, 'caughtstealing': 16, 'stolenbases': 59, 'stolenbasepercentage': '.787', 'caughtstealingpercentage': '.213', 'assists': 32, 'putouts': 858, 'errors': 7, 'chances': 897, 'fielding': '.992', 'passedball': 4, 'pickoffs': 2}}, gamestatus=GameStatus(iscurrentbatter=False, iscurrentpitcher=False, isonbench=False, issubstitute=False), position=Position(code='2', name='Catcher', type='Catcher', abbreviation='C'), battingorder='400', jerseynumber='30', parentteamid=141, allpositions=[Position(code='2', name='Catcher', type='Catcher', abbreviation='C')])}"
      ]
     },
     "execution_count": 30,
     "metadata": {},
     "output_type": "execute_result"
    }
   ],
   "source": [
    "mlb.get_game_box_score(game_id = 776423).teams.away.players ## Information of all the Toronto Blue Jays players in first game of 2025 season"
   ]
  },
  {
   "cell_type": "markdown",
   "id": "63faec28",
   "metadata": {},
   "source": [
    "Data of all pitchers used in the game by Toronto"
   ]
  },
  {
   "cell_type": "code",
   "execution_count": 36,
   "id": "596ced32",
   "metadata": {},
   "outputs": [
    {
     "name": "stdout",
     "output_type": "stream",
     "text": [
      "https://statsapi.mlb.com/api/v1/game/778556/boxscore\n",
      "Nick Sandlin : 1.0 IP, 0 ER, 0 K, 0 BB\n",
      "Richard Lovelady : 0.2 IP, 0 ER, K, BB\n",
      "José Berríos : 5.0 IP, 6 ER, 5 K, 2 BB\n",
      "Chad Green : 0.1 IP, ER, K, 0 BB\n",
      "Yariel Rodríguez : 1.0 IP, 3 ER, K, BB\n",
      "Jacob Barnes : 1.0 IP, 2 ER, 0 K, BB\n"
     ]
    }
   ],
   "source": [
    "pitchers = []\n",
    "box = mlb.get_game_box_score(game_id = game_id)\n",
    "for key in box.teams.home.players.keys():\n",
    "    if box.teams.home.players[key].stats['pitching'] != {}:\n",
    "        pitchers.append(str(box.teams.home.players[key].person.fullname) + \" : \" + str(box.teams.home.players[key].stats['pitching']['summary']))\n",
    "\n",
    "for pitcher in pitchers:\n",
    "    print(pitcher)"
   ]
  },
  {
   "cell_type": "markdown",
   "id": "e6b08e7a",
   "metadata": {},
   "source": [
    "Data of all position players used in the game by Toronto"
   ]
  },
  {
   "cell_type": "code",
   "execution_count": 39,
   "id": "3559b94f",
   "metadata": {},
   "outputs": [
    {
     "name": "stdout",
     "output_type": "stream",
     "text": [
      "https://statsapi.mlb.com/api/v1/game/778556/boxscore\n",
      "Bo Bichette : 0-4\n",
      "Anthony Santander : 0-4\n",
      "Ernie Clement : 0-3\n",
      "Andrés Giménez : 1-3 | HR, BB, 2 RBI\n",
      "Will Wagner : 1-3\n",
      "Alan Roden : 1-2 | BB\n",
      "George Springer : 0-3 | BB, 2 K\n",
      "Vladimir Guerrero Jr. : 0-2 | 2 BB, K, R\n",
      "Alejandro Kirk : 1-4\n"
     ]
    }
   ],
   "source": [
    "players = []\n",
    "box = mlb.get_game_box_score(game_id = game_id)\n",
    "for key in box.teams.home.players.keys():\n",
    "    if box.teams.home.players[key].stats['batting'] != {}:\n",
    "        players.append(str(box.teams.home.players[key].person.fullname) + \" : \" + str(box.teams.home.players[key].stats['batting']['summary']))\n",
    "\n",
    "for player in players:\n",
    "    print(player)"
   ]
  },
  {
   "cell_type": "markdown",
   "id": "f78659d3",
   "metadata": {},
   "source": [
    "Data from the whole Toronto team"
   ]
  },
  {
   "cell_type": "code",
   "execution_count": 43,
   "id": "1087fe93",
   "metadata": {},
   "outputs": [
    {
     "name": "stdout",
     "output_type": "stream",
     "text": [
      "https://statsapi.mlb.com/api/v1/game/778556/boxscore\n"
     ]
    },
    {
     "data": {
      "text/plain": [
       "{'flyouts': 7,\n",
       " 'groundouts': 7,\n",
       " 'airouts': 14,\n",
       " 'runs': 2,\n",
       " 'doubles': 0,\n",
       " 'triples': 0,\n",
       " 'homeruns': 1,\n",
       " 'strikeouts': 3,\n",
       " 'baseonballs': 5,\n",
       " 'intentionalwalks': 0,\n",
       " 'hits': 4,\n",
       " 'hitbypitch': 0,\n",
       " 'avg': '.143',\n",
       " 'atbats': 28,\n",
       " 'obp': '.273',\n",
       " 'slg': '.250',\n",
       " 'ops': '.523',\n",
       " 'caughtstealing': 0,\n",
       " 'stolenbases': 0,\n",
       " 'stolenbasepercentage': '.---',\n",
       " 'groundintodoubleplay': 2,\n",
       " 'groundintotripleplay': 0,\n",
       " 'plateappearances': 33,\n",
       " 'totalbases': 7,\n",
       " 'rbi': 2,\n",
       " 'leftonbase': 9,\n",
       " 'sacbunts': 0,\n",
       " 'sacflies': 0,\n",
       " 'catchersinterference': 0,\n",
       " 'pickoffs': 0,\n",
       " 'atbatsperhomerun': '28.00',\n",
       " 'popouts': 4,\n",
       " 'lineouts': 3}"
      ]
     },
     "execution_count": 43,
     "metadata": {},
     "output_type": "execute_result"
    }
   ],
   "source": [
    "mlb.get_game_box_score(game_id = game_id).teams.home.teamstats['batting'] ## Data from the whole Toronto team"
   ]
  },
  {
   "cell_type": "code",
   "execution_count": 44,
   "id": "d9118347",
   "metadata": {},
   "outputs": [
    {
     "name": "stdout",
     "output_type": "stream",
     "text": [
      "https://statsapi.mlb.com/api/v1/game/778556/boxscore\n"
     ]
    },
    {
     "data": {
      "text/plain": [
       "{'flyouts': 7,\n",
       " 'groundouts': 3,\n",
       " 'airouts': 14,\n",
       " 'runs': 12,\n",
       " 'doubles': 1,\n",
       " 'triples': 0,\n",
       " 'homeruns': 6,\n",
       " 'strikeouts': 8,\n",
       " 'baseonballs': 5,\n",
       " 'intentionalwalks': 0,\n",
       " 'hits': 14,\n",
       " 'hitbypitch': 1,\n",
       " 'atbats': 39,\n",
       " 'obp': '.444',\n",
       " 'caughtstealing': 1,\n",
       " 'stolenbases': 0,\n",
       " 'stolenbasepercentage': '.000',\n",
       " 'caughtstealingpercentage': '1.000',\n",
       " 'numberofpitches': 193,\n",
       " 'era': '12.00',\n",
       " 'inningspitched': '9.0',\n",
       " 'saveopportunities': 0,\n",
       " 'earnedruns': 12,\n",
       " 'whip': '2.11',\n",
       " 'battersfaced': 45,\n",
       " 'outs': 27,\n",
       " 'completegames': 0,\n",
       " 'shutouts': 0,\n",
       " 'pitchesthrown': 193,\n",
       " 'balls': 72,\n",
       " 'strikes': 121,\n",
       " 'strikepercentage': '.630',\n",
       " 'hitbatsmen': 1,\n",
       " 'balks': 0,\n",
       " 'wildpitches': 0,\n",
       " 'pickoffs': 0,\n",
       " 'groundoutstoairouts': '0.21',\n",
       " 'rbi': 12,\n",
       " 'pitchesperinning': '21.44',\n",
       " 'runsscoredper9': '12.00',\n",
       " 'homerunsper9': '6.00',\n",
       " 'inheritedrunners': 0,\n",
       " 'inheritedrunnersscored': 0,\n",
       " 'catchersinterference': 0,\n",
       " 'sacbunts': 0,\n",
       " 'sacflies': 0,\n",
       " 'passedball': 0,\n",
       " 'popouts': 4,\n",
       " 'lineouts': 3}"
      ]
     },
     "execution_count": 44,
     "metadata": {},
     "output_type": "execute_result"
    }
   ],
   "source": [
    "mlb.get_game_box_score(game_id = game_id).teams.home.teamstats['pitching'] ## Data from the whole Toronto team"
   ]
  },
  {
   "cell_type": "code",
   "execution_count": 45,
   "id": "146032d2",
   "metadata": {},
   "outputs": [
    {
     "name": "stdout",
     "output_type": "stream",
     "text": [
      "https://statsapi.mlb.com/api/v1/game/778556/boxscore\n"
     ]
    },
    {
     "data": {
      "text/plain": [
       "{'flyouts': 7,\n",
       " 'groundouts': 3,\n",
       " 'airouts': 14,\n",
       " 'runs': 12,\n",
       " 'doubles': 1,\n",
       " 'triples': 0,\n",
       " 'homeruns': 6,\n",
       " 'strikeouts': 8,\n",
       " 'baseonballs': 5,\n",
       " 'intentionalwalks': 0,\n",
       " 'hits': 14,\n",
       " 'hitbypitch': 1,\n",
       " 'avg': '.359',\n",
       " 'atbats': 39,\n",
       " 'obp': '.444',\n",
       " 'slg': '.846',\n",
       " 'ops': '1.290',\n",
       " 'caughtstealing': 1,\n",
       " 'stolenbases': 0,\n",
       " 'stolenbasepercentage': '.000',\n",
       " 'groundintodoubleplay': 0,\n",
       " 'groundintotripleplay': 0,\n",
       " 'plateappearances': 45,\n",
       " 'totalbases': 33,\n",
       " 'rbi': 12,\n",
       " 'leftonbase': 17,\n",
       " 'sacbunts': 0,\n",
       " 'sacflies': 0,\n",
       " 'catchersinterference': 0,\n",
       " 'pickoffs': 0,\n",
       " 'atbatsperhomerun': '6.50',\n",
       " 'popouts': 4,\n",
       " 'lineouts': 3}"
      ]
     },
     "execution_count": 45,
     "metadata": {},
     "output_type": "execute_result"
    }
   ],
   "source": [
    "mlb.get_game_box_score(game_id = game_id).teams.away.teamstats['batting'] ## Data from the whole away team"
   ]
  },
  {
   "cell_type": "code",
   "execution_count": 46,
   "id": "24376f8e",
   "metadata": {},
   "outputs": [
    {
     "name": "stdout",
     "output_type": "stream",
     "text": [
      "https://statsapi.mlb.com/api/v1/game/778556/boxscore\n"
     ]
    },
    {
     "data": {
      "text/plain": [
       "{'flyouts': 7,\n",
       " 'groundouts': 7,\n",
       " 'airouts': 14,\n",
       " 'runs': 2,\n",
       " 'doubles': 0,\n",
       " 'triples': 0,\n",
       " 'homeruns': 1,\n",
       " 'strikeouts': 3,\n",
       " 'baseonballs': 5,\n",
       " 'intentionalwalks': 0,\n",
       " 'hits': 4,\n",
       " 'hitbypitch': 0,\n",
       " 'atbats': 28,\n",
       " 'obp': '.273',\n",
       " 'caughtstealing': 0,\n",
       " 'stolenbases': 0,\n",
       " 'stolenbasepercentage': '.---',\n",
       " 'caughtstealingpercentage': '.---',\n",
       " 'numberofpitches': 129,\n",
       " 'era': '2.00',\n",
       " 'inningspitched': '9.0',\n",
       " 'saveopportunities': 0,\n",
       " 'earnedruns': 2,\n",
       " 'whip': '1.00',\n",
       " 'battersfaced': 33,\n",
       " 'outs': 27,\n",
       " 'completegames': 0,\n",
       " 'shutouts': 0,\n",
       " 'pitchesthrown': 129,\n",
       " 'balls': 53,\n",
       " 'strikes': 76,\n",
       " 'strikepercentage': '.590',\n",
       " 'hitbatsmen': 0,\n",
       " 'balks': 0,\n",
       " 'wildpitches': 1,\n",
       " 'pickoffs': 0,\n",
       " 'groundoutstoairouts': '0.50',\n",
       " 'rbi': 2,\n",
       " 'pitchesperinning': '14.33',\n",
       " 'runsscoredper9': '2.00',\n",
       " 'homerunsper9': '1.00',\n",
       " 'inheritedrunners': 0,\n",
       " 'inheritedrunnersscored': 0,\n",
       " 'catchersinterference': 0,\n",
       " 'sacbunts': 0,\n",
       " 'sacflies': 0,\n",
       " 'passedball': 0,\n",
       " 'popouts': 4,\n",
       " 'lineouts': 3}"
      ]
     },
     "execution_count": 46,
     "metadata": {},
     "output_type": "execute_result"
    }
   ],
   "source": [
    "mlb.get_game_box_score(game_id = game_id).teams.away.teamstats['pitching'] ## Data from the whole away team"
   ]
  }
 ],
 "metadata": {
  "kernelspec": {
   "display_name": "mlb",
   "language": "python",
   "name": "python3"
  },
  "language_info": {
   "codemirror_mode": {
    "name": "ipython",
    "version": 3
   },
   "file_extension": ".py",
   "mimetype": "text/x-python",
   "name": "python",
   "nbconvert_exporter": "python",
   "pygments_lexer": "ipython3",
   "version": "3.13.7"
  }
 },
 "nbformat": 4,
 "nbformat_minor": 5
}
