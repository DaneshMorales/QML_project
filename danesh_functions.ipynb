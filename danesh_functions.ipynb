{
 "cells": [
  {
   "cell_type": "code",
   "execution_count": 1,
   "id": "4dd4fbf9",
   "metadata": {},
   "outputs": [],
   "source": [
    "import mlbstatsapi\n",
    "mlb = mlbstatsapi.Mlb()\n",
    "import numpy as np"
   ]
  },
  {
   "cell_type": "code",
   "execution_count": 2,
   "id": "37fe7558",
   "metadata": {},
   "outputs": [
    {
     "name": "stdout",
     "output_type": "stream",
     "text": [
      "https://statsapi.mlb.com/api/v1/teams\n",
      "https://statsapi.mlb.com/api/v1/teams\n",
      "https://statsapi.mlb.com/api/v1/teams\n",
      "https://statsapi.mlb.com/api/v1/teams\n",
      "https://statsapi.mlb.com/api/v1/teams\n",
      "https://statsapi.mlb.com/api/v1/teams\n",
      "https://statsapi.mlb.com/api/v1/teams\n",
      "https://statsapi.mlb.com/api/v1/teams\n",
      "https://statsapi.mlb.com/api/v1/teams\n",
      "https://statsapi.mlb.com/api/v1/teams\n",
      "https://statsapi.mlb.com/api/v1/teams\n",
      "https://statsapi.mlb.com/api/v1/teams\n",
      "https://statsapi.mlb.com/api/v1/teams\n",
      "https://statsapi.mlb.com/api/v1/teams\n",
      "https://statsapi.mlb.com/api/v1/teams\n",
      "https://statsapi.mlb.com/api/v1/teams\n",
      "https://statsapi.mlb.com/api/v1/teams\n",
      "https://statsapi.mlb.com/api/v1/teams\n",
      "https://statsapi.mlb.com/api/v1/teams\n",
      "https://statsapi.mlb.com/api/v1/teams\n",
      "https://statsapi.mlb.com/api/v1/teams\n",
      "https://statsapi.mlb.com/api/v1/teams\n",
      "https://statsapi.mlb.com/api/v1/teams\n",
      "https://statsapi.mlb.com/api/v1/teams\n",
      "https://statsapi.mlb.com/api/v1/teams\n",
      "https://statsapi.mlb.com/api/v1/teams\n",
      "https://statsapi.mlb.com/api/v1/teams\n",
      "https://statsapi.mlb.com/api/v1/teams\n",
      "https://statsapi.mlb.com/api/v1/teams\n",
      "https://statsapi.mlb.com/api/v1/teams\n"
     ]
    }
   ],
   "source": [
    "mlb_teams = [\n",
    "    \"Los Angeles Angels\",\n",
    "    \"Houston Astros\",\n",
    "    \"Athletics\",\n",
    "    \"Toronto Blue Jays\",\n",
    "    \"Atlanta Braves\",\n",
    "    \"Milwaukee Brewers\",\n",
    "    \"St. Louis Cardinals\",\n",
    "    \"Chicago Cubs\",\n",
    "    \"Arizona Diamondbacks\",\n",
    "    \"Los Angeles Dodgers\",\n",
    "    \"San Francisco Giants\",\n",
    "    \"Cleveland Guardians\",\n",
    "    \"Seattle Mariners\",\n",
    "    \"Miami Marlins\",\n",
    "    \"New York Mets\",\n",
    "    \"Washington Nationals\",\n",
    "    \"Baltimore Orioles\",\n",
    "    \"San Diego Padres\",\n",
    "    \"Philadelphia Phillies\",\n",
    "    \"Pittsburgh Pirates\",\n",
    "    \"Texas Rangers\",\n",
    "    \"Tampa Bay Rays\",\n",
    "    \"Boston Red Sox\",\n",
    "    \"Cincinnati Reds\",\n",
    "    \"Colorado Rockies\",\n",
    "    \"Kansas City Royals\",\n",
    "    \"Detroit Tigers\",\n",
    "    \"Minnesota Twins\",\n",
    "    \"Chicago White Sox\",\n",
    "    \"New York Yankees\"\n",
    "]\n",
    "\n",
    "team_ids = [mlb.get_team_id(team_name= name)[0] for name in mlb_teams]"
   ]
  },
  {
   "cell_type": "code",
   "execution_count": 3,
   "id": "da5dbf38",
   "metadata": {},
   "outputs": [
    {
     "name": "stdout",
     "output_type": "stream",
     "text": [
      "https://statsapi.mlb.com/api/v1/teams/108\n",
      "https://statsapi.mlb.com/api/v1/teams/117\n",
      "https://statsapi.mlb.com/api/v1/teams/133\n",
      "https://statsapi.mlb.com/api/v1/teams/141\n",
      "https://statsapi.mlb.com/api/v1/teams/144\n",
      "https://statsapi.mlb.com/api/v1/teams/158\n",
      "https://statsapi.mlb.com/api/v1/teams/138\n",
      "https://statsapi.mlb.com/api/v1/teams/112\n",
      "https://statsapi.mlb.com/api/v1/teams/109\n",
      "https://statsapi.mlb.com/api/v1/teams/119\n",
      "https://statsapi.mlb.com/api/v1/teams/137\n",
      "https://statsapi.mlb.com/api/v1/teams/114\n",
      "https://statsapi.mlb.com/api/v1/teams/136\n",
      "https://statsapi.mlb.com/api/v1/teams/146\n",
      "https://statsapi.mlb.com/api/v1/teams/121\n",
      "https://statsapi.mlb.com/api/v1/teams/120\n",
      "https://statsapi.mlb.com/api/v1/teams/110\n",
      "https://statsapi.mlb.com/api/v1/teams/135\n",
      "https://statsapi.mlb.com/api/v1/teams/143\n",
      "https://statsapi.mlb.com/api/v1/teams/134\n",
      "https://statsapi.mlb.com/api/v1/teams/140\n",
      "https://statsapi.mlb.com/api/v1/teams/139\n",
      "https://statsapi.mlb.com/api/v1/teams/111\n",
      "https://statsapi.mlb.com/api/v1/teams/113\n",
      "https://statsapi.mlb.com/api/v1/teams/115\n",
      "https://statsapi.mlb.com/api/v1/teams/118\n",
      "https://statsapi.mlb.com/api/v1/teams/116\n",
      "https://statsapi.mlb.com/api/v1/teams/142\n",
      "https://statsapi.mlb.com/api/v1/teams/145\n",
      "https://statsapi.mlb.com/api/v1/teams/147\n"
     ]
    }
   ],
   "source": [
    "teams = {}\n",
    "\n",
    "for id in team_ids:\n",
    "    teams[mlb.get_team(id).abbreviation] = id"
   ]
  },
  {
   "cell_type": "code",
   "execution_count": 4,
   "id": "e3fbe5c0",
   "metadata": {},
   "outputs": [
    {
     "name": "stdout",
     "output_type": "stream",
     "text": [
      "https://statsapi.mlb.com/api/v1/sports/1/players\n"
     ]
    },
    {
     "data": {
      "text/plain": [
       "592332"
      ]
     },
     "execution_count": 4,
     "metadata": {},
     "output_type": "execute_result"
    }
   ],
   "source": [
    "kevin_gausman_id = mlb.get_people_id(\"Kevin Gausman\")[0]\n",
    "\n",
    "kevin_gausman_id"
   ]
  },
  {
   "cell_type": "code",
   "execution_count": 5,
   "id": "09276500",
   "metadata": {},
   "outputs": [
    {
     "name": "stdout",
     "output_type": "stream",
     "text": [
      "https://statsapi.mlb.com/api/v1/people/592332/stats\n"
     ]
    },
    {
     "data": {
      "text/plain": [
       "'3.59'"
      ]
     },
     "execution_count": 5,
     "metadata": {},
     "output_type": "execute_result"
    }
   ],
   "source": [
    "mlb.get_player_stats(kevin_gausman_id, stats=['season'], groups=['pitching'], season=2025)['pitching']['season'].splits[0].stat.era"
   ]
  },
  {
   "cell_type": "code",
   "execution_count": 7,
   "id": "a6409256",
   "metadata": {},
   "outputs": [],
   "source": [
    "def get_player_era(player_name):\n",
    "    player_id = mlb.get_people_id(player_name)[0]\n",
    "    return float(mlb.get_player_stats(player_id, stats=['season'], groups=['pitching'], season=2025)['pitching']['season'].splits[0].stat.era)"
   ]
  },
  {
   "cell_type": "code",
   "execution_count": 8,
   "id": "b46b5301",
   "metadata": {},
   "outputs": [
    {
     "name": "stdout",
     "output_type": "stream",
     "text": [
      "https://statsapi.mlb.com/api/v1/sports/1/players\n",
      "https://statsapi.mlb.com/api/v1/people/669456/stats\n"
     ]
    },
    {
     "data": {
      "text/plain": [
       "3.57"
      ]
     },
     "execution_count": 8,
     "metadata": {},
     "output_type": "execute_result"
    }
   ],
   "source": [
    "get_player_era(\"Shane Bieber\")"
   ]
  },
  {
   "cell_type": "code",
   "execution_count": 9,
   "id": "e250c0f0",
   "metadata": {},
   "outputs": [
    {
     "name": "stdout",
     "output_type": "stream",
     "text": [
      "https://statsapi.mlb.com/api/v1/sports/1/players\n",
      "https://statsapi.mlb.com/api/v1/people/702056/stats\n"
     ]
    },
    {
     "data": {
      "text/plain": [
       "3.21"
      ]
     },
     "execution_count": 9,
     "metadata": {},
     "output_type": "execute_result"
    }
   ],
   "source": [
    "get_player_era(\"Trey Yesavage\")"
   ]
  },
  {
   "cell_type": "code",
   "execution_count": 11,
   "id": "e28fb4b4",
   "metadata": {},
   "outputs": [
    {
     "name": "stdout",
     "output_type": "stream",
     "text": [
      "https://statsapi.mlb.com/api/v1/game/778556/boxscore\n"
     ]
    }
   ],
   "source": [
    "box = mlb.get_game_box_score(game_id = 778556)"
   ]
  },
  {
   "cell_type": "code",
   "execution_count": 10,
   "id": "2a4eea3c",
   "metadata": {},
   "outputs": [],
   "source": [
    "def innings(innings_pitched_str):\n",
    "    if '.' in innings_pitched_str:\n",
    "        whole, fraction = innings_pitched_str.split('.')\n",
    "        return int(whole) + int(fraction) / 3\n",
    "    else:\n",
    "        return int(innings_pitched_str)"
   ]
  },
  {
   "cell_type": "code",
   "execution_count": 21,
   "id": "f012bc3c",
   "metadata": {},
   "outputs": [
    {
     "data": {
      "text/plain": [
       "np.float64(10.8)"
      ]
     },
     "execution_count": 21,
     "metadata": {},
     "output_type": "execute_result"
    }
   ],
   "source": [
    "pitch_stats = box.teams.home.players['id621244'].stats['pitching']\n",
    "\n",
    "np.round(pitch_stats['earnedruns']/innings(pitch_stats['inningspitched'])*9, decimals=2)"
   ]
  },
  {
   "cell_type": "code",
   "execution_count": 22,
   "id": "86d20df7",
   "metadata": {},
   "outputs": [],
   "source": [
    "def pitcher_era_home_and_away(game_id):\n",
    "    box = mlb.get_game_box_score(game_id = game_id)\n",
    "    home_innings = 0\n",
    "    away_innings = 0\n",
    "    key_home = None\n",
    "    key_away = None\n",
    "    for key in box.teams.home.players.keys():\n",
    "        if box.teams.home.players[key].stats['pitching'] != {}:\n",
    "            if innings(box.teams.home.players[key].stats['pitching']['inningspitched']) > home_innings:\n",
    "                home_innings = innings(box.teams.home.players[key].stats['pitching']['inningspitched'])\n",
    "                key_home = key\n",
    "    for key in box.teams.away.players.keys():\n",
    "        if box.teams.away.players[key].stats['pitching'] != {}:\n",
    "            if innings(box.teams.away.players[key].stats['pitching']['inningspitched']) > away_innings:\n",
    "                away_innings = innings(box.teams.away.players[key].stats['pitching']['inningspitched'])\n",
    "                key_away = key\n",
    "    if key_home is not None and key_away is not None:\n",
    "        home_era = np.round(box.teams.home.players[key_home].stats['pitching']['earnedruns'] / home_innings * 9, decimals=2)\n",
    "        away_era = np.round(box.teams.away.players[key_away].stats['pitching']['earnedruns'] / away_innings * 9, decimals=2)\n",
    "        return home_era, away_era"
   ]
  },
  {
   "cell_type": "code",
   "execution_count": 26,
   "id": "dcac9f6e",
   "metadata": {},
   "outputs": [
    {
     "name": "stdout",
     "output_type": "stream",
     "text": [
      "https://statsapi.mlb.com/api/v1/teams/141/stats\n"
     ]
    }
   ],
   "source": [
    "toronto_stats = mlb.get_team_stats(teams['TOR'], stats=[\"season\"] , groups=[\"hitting\", \"pitching\"], **{\"season\": 2025})"
   ]
  },
  {
   "cell_type": "code",
   "execution_count": 35,
   "id": "df3bfa1a",
   "metadata": {},
   "outputs": [
    {
     "data": {
      "text/plain": [
       "0.298"
      ]
     },
     "execution_count": 35,
     "metadata": {},
     "output_type": "execute_result"
    }
   ],
   "source": [
    "float(toronto_stats['hitting']['season'].splits[0].stat.babip)"
   ]
  },
  {
   "cell_type": "code",
   "execution_count": 47,
   "id": "82938a31",
   "metadata": {},
   "outputs": [],
   "source": [
    "def get_2025_hitting_stats(team_abbreviation: str, hitting_stats: list):\n",
    "    team_id = teams[team_abbreviation]\n",
    "    team_stats = mlb.get_team_stats(team_id, stats=[\"season\"] , groups=[\"hitting\"], **{\"season\": 2025})\n",
    "    return {stat: float(getattr(team_stats['hitting']['season'].splits[0].stat, stat)) for stat in hitting_stats}\n",
    "\n",
    "def get_2025_pitching_stats(team_abbreviation: str, pitching_stats: list):\n",
    "    team_id = teams[team_abbreviation]\n",
    "    team_stats = mlb.get_team_stats(team_id, stats=[\"season\"] , groups=[\"pitching\"], **{\"season\": 2025})\n",
    "    return {stat: float(getattr(team_stats['pitching']['season'].splits[0].stat, stat)) for stat in pitching_stats}"
   ]
  },
  {
   "cell_type": "code",
   "execution_count": 51,
   "id": "65306d2f",
   "metadata": {},
   "outputs": [
    {
     "name": "stdout",
     "output_type": "stream",
     "text": [
      "https://statsapi.mlb.com/api/v1/teams/141/stats\n"
     ]
    },
    {
     "data": {
      "text/plain": [
       "{'babip': 0.298, 'avg': 0.265, 'obp': 0.333, 'slg': 0.427, 'ops': 0.76}"
      ]
     },
     "execution_count": 51,
     "metadata": {},
     "output_type": "execute_result"
    }
   ],
   "source": [
    "get_2025_hitting_stats(\"TOR\", [\"babip\", \"avg\", \"obp\", \"slg\", \"ops\"])"
   ]
  },
  {
   "cell_type": "code",
   "execution_count": 50,
   "id": "fbf44526",
   "metadata": {},
   "outputs": [
    {
     "name": "stdout",
     "output_type": "stream",
     "text": [
      "https://statsapi.mlb.com/api/v1/teams/141/stats\n"
     ]
    },
    {
     "data": {
      "text/plain": [
       "{'era': 4.19, 'whip': 1.27, 'hitsper9inn': 8.22}"
      ]
     },
     "execution_count": 50,
     "metadata": {},
     "output_type": "execute_result"
    }
   ],
   "source": [
    "get_2025_pitching_stats(\"TOR\", [\"era\", \"whip\", \"hitsper9inn\"])"
   ]
  },
  {
   "cell_type": "code",
   "execution_count": null,
   "id": "d809febb",
   "metadata": {},
   "outputs": [],
   "source": []
  }
 ],
 "metadata": {
  "kernelspec": {
   "display_name": "mlb",
   "language": "python",
   "name": "python3"
  },
  "language_info": {
   "codemirror_mode": {
    "name": "ipython",
    "version": 3
   },
   "file_extension": ".py",
   "mimetype": "text/x-python",
   "name": "python",
   "nbconvert_exporter": "python",
   "pygments_lexer": "ipython3",
   "version": "3.13.7"
  }
 },
 "nbformat": 4,
 "nbformat_minor": 5
}
