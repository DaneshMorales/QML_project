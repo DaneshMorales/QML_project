{
 "cells": [
  {
   "cell_type": "code",
   "execution_count": 1,
   "id": "4dd4fbf9",
   "metadata": {},
   "outputs": [],
   "source": [
    "import mlbstatsapi\n",
    "mlb = mlbstatsapi.Mlb()"
   ]
  },
  {
   "cell_type": "code",
   "execution_count": 2,
   "id": "37fe7558",
   "metadata": {},
   "outputs": [
    {
     "name": "stdout",
     "output_type": "stream",
     "text": [
      "https://statsapi.mlb.com/api/v1/teams\n",
      "https://statsapi.mlb.com/api/v1/teams\n",
      "https://statsapi.mlb.com/api/v1/teams\n",
      "https://statsapi.mlb.com/api/v1/teams\n",
      "https://statsapi.mlb.com/api/v1/teams\n",
      "https://statsapi.mlb.com/api/v1/teams\n",
      "https://statsapi.mlb.com/api/v1/teams\n",
      "https://statsapi.mlb.com/api/v1/teams\n",
      "https://statsapi.mlb.com/api/v1/teams\n",
      "https://statsapi.mlb.com/api/v1/teams\n",
      "https://statsapi.mlb.com/api/v1/teams\n",
      "https://statsapi.mlb.com/api/v1/teams\n",
      "https://statsapi.mlb.com/api/v1/teams\n",
      "https://statsapi.mlb.com/api/v1/teams\n",
      "https://statsapi.mlb.com/api/v1/teams\n",
      "https://statsapi.mlb.com/api/v1/teams\n",
      "https://statsapi.mlb.com/api/v1/teams\n",
      "https://statsapi.mlb.com/api/v1/teams\n",
      "https://statsapi.mlb.com/api/v1/teams\n",
      "https://statsapi.mlb.com/api/v1/teams\n",
      "https://statsapi.mlb.com/api/v1/teams\n",
      "https://statsapi.mlb.com/api/v1/teams\n",
      "https://statsapi.mlb.com/api/v1/teams\n",
      "https://statsapi.mlb.com/api/v1/teams\n",
      "https://statsapi.mlb.com/api/v1/teams\n",
      "https://statsapi.mlb.com/api/v1/teams\n",
      "https://statsapi.mlb.com/api/v1/teams\n",
      "https://statsapi.mlb.com/api/v1/teams\n",
      "https://statsapi.mlb.com/api/v1/teams\n",
      "https://statsapi.mlb.com/api/v1/teams\n"
     ]
    }
   ],
   "source": [
    "mlb_teams = [\n",
    "    \"Los Angeles Angels\",\n",
    "    \"Houston Astros\",\n",
    "    \"Athletics\",\n",
    "    \"Toronto Blue Jays\",\n",
    "    \"Atlanta Braves\",\n",
    "    \"Milwaukee Brewers\",\n",
    "    \"St. Louis Cardinals\",\n",
    "    \"Chicago Cubs\",\n",
    "    \"Arizona Diamondbacks\",\n",
    "    \"Los Angeles Dodgers\",\n",
    "    \"San Francisco Giants\",\n",
    "    \"Cleveland Guardians\",\n",
    "    \"Seattle Mariners\",\n",
    "    \"Miami Marlins\",\n",
    "    \"New York Mets\",\n",
    "    \"Washington Nationals\",\n",
    "    \"Baltimore Orioles\",\n",
    "    \"San Diego Padres\",\n",
    "    \"Philadelphia Phillies\",\n",
    "    \"Pittsburgh Pirates\",\n",
    "    \"Texas Rangers\",\n",
    "    \"Tampa Bay Rays\",\n",
    "    \"Boston Red Sox\",\n",
    "    \"Cincinnati Reds\",\n",
    "    \"Colorado Rockies\",\n",
    "    \"Kansas City Royals\",\n",
    "    \"Detroit Tigers\",\n",
    "    \"Minnesota Twins\",\n",
    "    \"Chicago White Sox\",\n",
    "    \"New York Yankees\"\n",
    "]\n",
    "\n",
    "team_ids = [mlb.get_team_id(team_name= name)[0] for name in mlb_teams]"
   ]
  },
  {
   "cell_type": "code",
   "execution_count": 3,
   "id": "da5dbf38",
   "metadata": {},
   "outputs": [
    {
     "name": "stdout",
     "output_type": "stream",
     "text": [
      "https://statsapi.mlb.com/api/v1/teams/108\n",
      "https://statsapi.mlb.com/api/v1/teams/117\n",
      "https://statsapi.mlb.com/api/v1/teams/133\n",
      "https://statsapi.mlb.com/api/v1/teams/141\n",
      "https://statsapi.mlb.com/api/v1/teams/144\n",
      "https://statsapi.mlb.com/api/v1/teams/158\n",
      "https://statsapi.mlb.com/api/v1/teams/138\n",
      "https://statsapi.mlb.com/api/v1/teams/112\n",
      "https://statsapi.mlb.com/api/v1/teams/109\n",
      "https://statsapi.mlb.com/api/v1/teams/119\n",
      "https://statsapi.mlb.com/api/v1/teams/137\n",
      "https://statsapi.mlb.com/api/v1/teams/114\n",
      "https://statsapi.mlb.com/api/v1/teams/136\n",
      "https://statsapi.mlb.com/api/v1/teams/146\n",
      "https://statsapi.mlb.com/api/v1/teams/121\n",
      "https://statsapi.mlb.com/api/v1/teams/120\n",
      "https://statsapi.mlb.com/api/v1/teams/110\n",
      "https://statsapi.mlb.com/api/v1/teams/135\n",
      "https://statsapi.mlb.com/api/v1/teams/143\n",
      "https://statsapi.mlb.com/api/v1/teams/134\n",
      "https://statsapi.mlb.com/api/v1/teams/140\n",
      "https://statsapi.mlb.com/api/v1/teams/139\n",
      "https://statsapi.mlb.com/api/v1/teams/111\n",
      "https://statsapi.mlb.com/api/v1/teams/113\n",
      "https://statsapi.mlb.com/api/v1/teams/115\n",
      "https://statsapi.mlb.com/api/v1/teams/118\n",
      "https://statsapi.mlb.com/api/v1/teams/116\n",
      "https://statsapi.mlb.com/api/v1/teams/142\n",
      "https://statsapi.mlb.com/api/v1/teams/145\n",
      "https://statsapi.mlb.com/api/v1/teams/147\n"
     ]
    }
   ],
   "source": [
    "teams = {}\n",
    "\n",
    "for id in team_ids:\n",
    "    teams[mlb.get_team(id).abbreviation] = id"
   ]
  },
  {
   "cell_type": "code",
   "execution_count": 5,
   "id": "e3fbe5c0",
   "metadata": {},
   "outputs": [
    {
     "name": "stdout",
     "output_type": "stream",
     "text": [
      "https://statsapi.mlb.com/api/v1/sports/1/players\n"
     ]
    },
    {
     "data": {
      "text/plain": [
       "592332"
      ]
     },
     "execution_count": 5,
     "metadata": {},
     "output_type": "execute_result"
    }
   ],
   "source": [
    "kevin_gausman_id = mlb.get_people_id(\"Kevin Gausman\")[0]\n",
    "\n",
    "kevin_gausman_id"
   ]
  },
  {
   "cell_type": "code",
   "execution_count": 13,
   "id": "09276500",
   "metadata": {},
   "outputs": [
    {
     "name": "stdout",
     "output_type": "stream",
     "text": [
      "https://statsapi.mlb.com/api/v1/people/592332/stats\n"
     ]
    },
    {
     "data": {
      "text/plain": [
       "'3.59'"
      ]
     },
     "execution_count": 13,
     "metadata": {},
     "output_type": "execute_result"
    }
   ],
   "source": [
    "mlb.get_player_stats(kevin_gausman_id, stats=['season'], groups=['pitching'], season=2025)['pitching']['season'].splits[0].stat.era"
   ]
  },
  {
   "cell_type": "code",
   "execution_count": 14,
   "id": "a6409256",
   "metadata": {},
   "outputs": [],
   "source": [
    "def get_player_era(player_name):\n",
    "    player_id = mlb.get_people_id(player_name)[0]\n",
    "    return mlb.get_player_stats(player_id, stats=['season'], groups=['pitching'], season=2025)['pitching']['season'].splits[0].stat.era"
   ]
  },
  {
   "cell_type": "code",
   "execution_count": 15,
   "id": "b46b5301",
   "metadata": {},
   "outputs": [
    {
     "name": "stdout",
     "output_type": "stream",
     "text": [
      "https://statsapi.mlb.com/api/v1/sports/1/players\n",
      "https://statsapi.mlb.com/api/v1/people/669456/stats\n"
     ]
    },
    {
     "data": {
      "text/plain": [
       "'3.57'"
      ]
     },
     "execution_count": 15,
     "metadata": {},
     "output_type": "execute_result"
    }
   ],
   "source": [
    "get_player_era(\"Shane Bieber\")"
   ]
  },
  {
   "cell_type": "code",
   "execution_count": 16,
   "id": "e250c0f0",
   "metadata": {},
   "outputs": [
    {
     "name": "stdout",
     "output_type": "stream",
     "text": [
      "https://statsapi.mlb.com/api/v1/sports/1/players\n",
      "https://statsapi.mlb.com/api/v1/people/702056/stats\n"
     ]
    },
    {
     "data": {
      "text/plain": [
       "'3.21'"
      ]
     },
     "execution_count": 16,
     "metadata": {},
     "output_type": "execute_result"
    }
   ],
   "source": [
    "get_player_era(\"Trey Yesavage\")"
   ]
  },
  {
   "cell_type": "code",
   "execution_count": null,
   "id": "e68b59d1",
   "metadata": {},
   "outputs": [],
   "source": []
  }
 ],
 "metadata": {
  "kernelspec": {
   "display_name": "mlb",
   "language": "python",
   "name": "python3"
  },
  "language_info": {
   "codemirror_mode": {
    "name": "ipython",
    "version": 3
   },
   "file_extension": ".py",
   "mimetype": "text/x-python",
   "name": "python",
   "nbconvert_exporter": "python",
   "pygments_lexer": "ipython3",
   "version": "3.13.7"
  }
 },
 "nbformat": 4,
 "nbformat_minor": 5
}
